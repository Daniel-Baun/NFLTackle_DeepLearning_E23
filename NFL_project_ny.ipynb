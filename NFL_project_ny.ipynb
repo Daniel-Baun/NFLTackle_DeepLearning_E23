{
  "cells": [
    {
      "cell_type": "code",
      "execution_count": null,
      "metadata": {
        "id": "ZrlbHdcILrSl"
      },
      "outputs": [],
      "source": [
        "#%% import packages:\n",
        "import numpy as np\n",
        "import matplotlib.pyplot as plt\n",
        "import torch\n",
        "import torch.nn as nn\n",
        "import torch.nn.functional as F\n",
        "import numpy as np\n",
        "import os"
      ]
    },
    {
      "cell_type": "code",
      "execution_count": null,
      "metadata": {
        "id": "RkeK9wFILrSq",
        "outputId": "7901d29e-aa21-484b-80f1-b16cadc1cb19"
      },
      "outputs": [
        {
          "name": "stdout",
          "output_type": "stream",
          "text": [
            "cuda is not available\n"
          ]
        }
      ],
      "source": [
        "#%% check if cuda is available:\n",
        "if torch.cuda.is_available():\n",
        "    print('cuda is available')\n",
        "    device = torch.device(\"cuda:0\")\n",
        "else:\n",
        "    print('cuda is not available')\n",
        "    device = torch.device(\"cpu\")"
      ]
    },
    {
      "cell_type": "code",
      "execution_count": null,
      "metadata": {
        "id": "aC2bU_vrLrSt",
        "outputId": "b94ae362-6d7c-4cf5-e735-c74e3702dcb6"
      },
      "outputs": [
        {
          "name": "stdout",
          "output_type": "stream",
          "text": [
            "torch.Size([4, 8, 100, 100]) tensor([1., 1., 1., 1.], dtype=torch.float64)\n"
          ]
        }
      ],
      "source": [
        "import pandas as pd\n",
        "import torch\n",
        "from torch.utils.data import Dataset, DataLoader\n",
        "import numpy as np\n",
        "\n",
        "max_field_width = 53.3  # in yards\n",
        "max_field_height = 120  # in yards\n",
        "num_channels = 8  # 2 for position, 3 for player attributes, 3 for ball attributes\n",
        "\n",
        "class NFLDataset(Dataset):\n",
        "    def __init__(self, csv_file, grid_size=(100, 100), transform=None):\n",
        "        self.nfl_data = pd.read_csv(csv_file)\n",
        "        self.grid_size = grid_size\n",
        "        self.transform = transform\n",
        "\n",
        "    def __len__(self):\n",
        "        return len(self.nfl_data)\n",
        "\n",
        "    def __getitem__(self, idx):\n",
        "        data_row = self.nfl_data.iloc[idx]\n",
        "\n",
        "        # Initialize a grid with multiple channels\n",
        "        grid = np.zeros((num_channels, *self.grid_size))\n",
        "\n",
        "        # Center of the grid\n",
        "        center_x, center_y = self.grid_size[0] // 2, self.grid_size[1] // 2\n",
        "\n",
        "        # Normalize and translate player and ball positions\n",
        "        ball_x, ball_y = data_row['ball_x'], data_row['ball_y']\n",
        "        player_x, player_y = data_row['player_x'], data_row['player_y']\n",
        "\n",
        "        # Normalize positions\n",
        "        norm_player_x = int((player_x - ball_x) / max_field_width * self.grid_size[0]) + center_x\n",
        "        norm_player_y = int((player_y - ball_y) / max_field_height * self.grid_size[1]) + center_y\n",
        "\n",
        "        # Place player and ball in their respective position layers\n",
        "        if 0 <= norm_player_x < self.grid_size[0] and 0 <= norm_player_y < self.grid_size[1]:\n",
        "            grid[0, norm_player_x, norm_player_y] = 1  # Player position layer\n",
        "        grid[1, center_x, center_y] = 1  # Ball position layer (always at the center)\n",
        "\n",
        "        # Populate other attribute layers (speed, acceleration, direction) for player and ball\n",
        "        # Normalize these attributes as needed\n",
        "        grid[2, norm_player_x, norm_player_y] = data_row['player_s']  # Player speed\n",
        "        grid[3, norm_player_x, norm_player_y] = data_row['player_a']  # Player acceleration\n",
        "        grid[4, norm_player_x, norm_player_y] = data_row['player_dir']  # Player direction\n",
        "        grid[5, center_x, center_y] = data_row['ball_s']  # Ball speed\n",
        "        grid[6, center_x, center_y] = data_row['ball_a']  # Ball acceleration\n",
        "        grid[7, center_x, center_y] = data_row['ball_dir']  # Ball direction\n",
        "\n",
        "        grid_tensor = torch.tensor(grid, dtype=torch.float32)\n",
        "\n",
        "        label = data_row['tackle']\n",
        "\n",
        "        if self.transform:\n",
        "            grid_tensor = self.transform(grid_tensor)\n",
        "\n",
        "        return grid_tensor, label\n",
        "\n",
        "# Usage example\n",
        "nfl_dataset = NFLDataset(csv_file='data/extended_tackles_with_tracking_test_batch_200.csv', grid_size=(100, 100))\n",
        "\n",
        "# Create a DataLoader\n",
        "dataloader = DataLoader(nfl_dataset, batch_size=4, shuffle=True)\n",
        "\n",
        "# Example of iterating over the DataLoader\n",
        "for grid, label in dataloader:\n",
        "    print(grid.shape, label)\n",
        "    break  # Remove this to iterate over the entire dataset\n"
      ]
    },
    {
      "cell_type": "code",
      "execution_count": null,
      "metadata": {
        "id": "1YIWpPdTLrSu",
        "outputId": "ffb6f5a6-132f-4fa3-d485-b89fc93659a1"
      },
      "outputs": [
        {
          "name": "stdout",
          "output_type": "stream",
          "text": [
            "Label: 1.0\n"
          ]
        },
        {
          "data": {
            "image/png": "[encoded data removed]",
            "text/plain": [
              "<Figure size 640x480 with 2 Axes>"
            ]
          },
          "metadata": {},
          "output_type": "display_data"
        }
      ],
      "source": [
        "def visualize_grid(grid):\n",
        "    # Create a combined grid for visualization\n",
        "    # Assuming channel 0 is player position and channel 1 is ball position\n",
        "    combined_grid = np.zeros_like(grid[0])\n",
        "    combined_grid[grid[0] == 1] = 1  # Mark player positions\n",
        "    combined_grid[grid[1] == 1] = 2  # Mark ball positions\n",
        "\n",
        "    # Visualize the combined grid\n",
        "    plt.imshow(combined_grid, cmap='hot', interpolation='nearest')\n",
        "    plt.colorbar()\n",
        "    plt.title('Combined Player and Ball Positions')\n",
        "    plt.show()\n",
        "\n",
        "# Usage example\n",
        "nfl_dataset = NFLDataset(csv_file='data/extended_tackles_with_tracking_test_batch_200.csv', grid_size=(100, 100))\n",
        "\n",
        "# Test the visualization\n",
        "for i in range(3,4):  # Visualize the first 3 examples\n",
        "    grid, label = nfl_dataset[i]\n",
        "    print(f\"Label: {label}\")\n",
        "    visualize_grid(grid.numpy())\n"
      ]
    },
    {
      "cell_type": "code",
      "execution_count": null,
      "metadata": {
        "id": "fn2LrG0BLrSv"
      },
      "outputs": [],
      "source": [
        "import torch\n",
        "import torch.nn as nn\n",
        "import torch.optim as optim\n",
        "\n",
        "class SimpleCNN(nn.Module):\n",
        "    def __init__(self):\n",
        "        super(SimpleCNN, self).__init__()\n",
        "        self.conv1 = nn.Conv2d(in_channels=8, out_channels=16, kernel_size=3, stride=1, padding=1)\n",
        "        self.relu = nn.ReLU()\n",
        "        self.pool = nn.MaxPool2d(kernel_size=2, stride=2, padding=0)\n",
        "        self.fc1 = nn.Linear(16 * 50 * 50, 128)  # Adjust the input features\n",
        "        self.fc2 = nn.Linear(128, 1)\n",
        "        self.sigmoid = nn.Sigmoid()\n",
        "\n",
        "    def forward(self, x):\n",
        "        x = self.pool(self.relu(self.conv1(x)))\n",
        "        x = x.view(-1, 16 * 50 * 50)  # Flatten the output for the fully connected layer\n",
        "        x = self.relu(self.fc1(x))\n",
        "        x = self.sigmoid(self.fc2(x))\n",
        "        return x\n",
        "\n"
      ]
    },
    {
      "cell_type": "code",
      "execution_count": null,
      "metadata": {
        "id": "-zf8P-3BLrSw"
      },
      "outputs": [],
      "source": [
        "model = SimpleCNN()\n",
        "loss_function = nn.BCELoss()\n",
        "optimizer = optim.Adam(model.parameters(), lr=0.001)"
      ]
    },
    {
      "cell_type": "code",
      "execution_count": null,
      "metadata": {
        "id": "bDTSQxI7LrSx"
      },
      "outputs": [],
      "source": [
        "def calculate_accuracy(loader, model):\n",
        "    correct = 0\n",
        "    total = 0\n",
        "    with torch.no_grad():\n",
        "        for data in loader:\n",
        "            inputs, labels = data\n",
        "            outputs = model(inputs)\n",
        "            predicted = (outputs > 0.5).float()\n",
        "            total += labels.size(0)\n",
        "            correct += (predicted == labels).sum().item()\n",
        "    return correct / total"
      ]
    },
    {
      "cell_type": "code",
      "execution_count": null,
      "metadata": {
        "id": "hiUsqH8zLrSx"
      },
      "outputs": [],
      "source": [
        "from torch.utils.data import random_split\n",
        "from torch.utils.data import DataLoader\n",
        "nfl_dataset_big = NFLDataset(csv_file='data/extended_tackles_with_tracking.csv', grid_size=(100, 100))\n",
        "nfl_dataset = NFLDataset(csv_file='data/extended_tackles_with_tracking_test_batch_200.csv', grid_size=(100, 100))\n",
        "\n",
        "# Define the proportions\n",
        "total_size = len(nfl_dataset)  # Use the nfl_dataset instance you already created\n",
        "train_size = int(total_size * 0.7)  # 70% of data\n",
        "val_size = int(total_size * 0.2)  # 20% of data\n",
        "test_size = total_size - train_size - val_size  # Remaining 10% for testing\n",
        "\n",
        "# Split the dataset\n",
        "train_dataset, val_dataset, test_dataset = random_split(nfl_dataset, [train_size, val_size, test_size])\n",
        "\n",
        "# Create DataLoaders for each set\n",
        "train_loader = DataLoader(train_dataset, batch_size=4, shuffle=True)\n",
        "val_loader = DataLoader(val_dataset, batch_size=4, shuffle=False)\n",
        "test_loader = DataLoader(test_dataset, batch_size=4, shuffle=False)\n"
      ]
    },
    {
      "cell_type": "code",
      "execution_count": null,
      "metadata": {
        "id": "5H-3SK1ILrSy",
        "outputId": "accbe56b-e5c8-43d8-bdb4-72521828cedc"
      },
      "outputs": [
        {
          "name": "stdout",
          "output_type": "stream",
          "text": [
            "Epoch 1/20, Training Accuracy: 4.00, Validation Accuracy: 4.00\n",
            "Epoch 2/20, Training Accuracy: 4.00, Validation Accuracy: 4.00\n",
            "Epoch 3/20, Training Accuracy: 4.00, Validation Accuracy: 4.00\n",
            "Epoch 4/20, Training Accuracy: 4.00, Validation Accuracy: 4.00\n",
            "Epoch 5/20, Training Accuracy: 4.00, Validation Accuracy: 4.00\n",
            "Epoch 6/20, Training Accuracy: 4.00, Validation Accuracy: 4.00\n",
            "Epoch 7/20, Training Accuracy: 4.00, Validation Accuracy: 4.00\n",
            "Epoch 8/20, Training Accuracy: 4.00, Validation Accuracy: 4.00\n",
            "Epoch 9/20, Training Accuracy: 4.00, Validation Accuracy: 4.00\n",
            "Epoch 10/20, Training Accuracy: 4.00, Validation Accuracy: 4.00\n",
            "Epoch 11/20, Training Accuracy: 4.00, Validation Accuracy: 4.00\n",
            "Epoch 12/20, Training Accuracy: 4.00, Validation Accuracy: 4.00\n",
            "Epoch 13/20, Training Accuracy: 4.00, Validation Accuracy: 4.00\n"
          ]
        },
        {
          "ename": "KeyboardInterrupt",
          "evalue": "",
          "output_type": "error",
          "traceback": [
            "\u001b[1;31m---------------------------------------------------------------------------\u001b[0m",
            "\u001b[1;31mKeyboardInterrupt\u001b[0m                         Traceback (most recent call last)",
            "\u001b[1;32mc:\\Users\\rasmu\\OneDrive - Aarhus universitet\\7. Semester\\Deep Learning\\Project\\NFLTackle_DeepLearning_E23\\NFL_project.ipynb Cell 9\u001b[0m line \u001b[0;36m1\n\u001b[0;32m     <a href='vscode-notebook-cell:/c%3A/Users/rasmu/OneDrive%20-%20Aarhus%20universitet/7.%20Semester/Deep%20Learning/Project/NFLTackle_DeepLearning_E23/NFL_project.ipynb#W6sZmlsZQ%3D%3D?line=9'>10</a>\u001b[0m     loss \u001b[39m=\u001b[39m loss_function(outputs, labels\u001b[39m.\u001b[39mfloat())  \u001b[39m# Ensure labels are float type\u001b[39;00m\n\u001b[0;32m     <a href='vscode-notebook-cell:/c%3A/Users/rasmu/OneDrive%20-%20Aarhus%20universitet/7.%20Semester/Deep%20Learning/Project/NFLTackle_DeepLearning_E23/NFL_project.ipynb#W6sZmlsZQ%3D%3D?line=10'>11</a>\u001b[0m     loss\u001b[39m.\u001b[39mbackward()\n\u001b[1;32m---> <a href='vscode-notebook-cell:/c%3A/Users/rasmu/OneDrive%20-%20Aarhus%20universitet/7.%20Semester/Deep%20Learning/Project/NFLTackle_DeepLearning_E23/NFL_project.ipynb#W6sZmlsZQ%3D%3D?line=11'>12</a>\u001b[0m     optimizer\u001b[39m.\u001b[39;49mstep()\n\u001b[0;32m     <a href='vscode-notebook-cell:/c%3A/Users/rasmu/OneDrive%20-%20Aarhus%20universitet/7.%20Semester/Deep%20Learning/Project/NFLTackle_DeepLearning_E23/NFL_project.ipynb#W6sZmlsZQ%3D%3D?line=13'>14</a>\u001b[0m \u001b[39m# Calculate training accuracy\u001b[39;00m\n\u001b[0;32m     <a href='vscode-notebook-cell:/c%3A/Users/rasmu/OneDrive%20-%20Aarhus%20universitet/7.%20Semester/Deep%20Learning/Project/NFLTackle_DeepLearning_E23/NFL_project.ipynb#W6sZmlsZQ%3D%3D?line=14'>15</a>\u001b[0m train_accuracy \u001b[39m=\u001b[39m calculate_accuracy(train_loader, model)\n",
            "File \u001b[1;32mc:\\Users\\rasmu\\miniconda3\\envs\\deep\\Lib\\site-packages\\torch\\optim\\optimizer.py:373\u001b[0m, in \u001b[0;36mOptimizer.profile_hook_step.<locals>.wrapper\u001b[1;34m(*args, **kwargs)\u001b[0m\n\u001b[0;32m    368\u001b[0m         \u001b[39melse\u001b[39;00m:\n\u001b[0;32m    369\u001b[0m             \u001b[39mraise\u001b[39;00m \u001b[39mRuntimeError\u001b[39;00m(\n\u001b[0;32m    370\u001b[0m                 \u001b[39mf\u001b[39m\u001b[39m\"\u001b[39m\u001b[39m{\u001b[39;00mfunc\u001b[39m}\u001b[39;00m\u001b[39m must return None or a tuple of (new_args, new_kwargs), but got \u001b[39m\u001b[39m{\u001b[39;00mresult\u001b[39m}\u001b[39;00m\u001b[39m.\u001b[39m\u001b[39m\"\u001b[39m\n\u001b[0;32m    371\u001b[0m             )\n\u001b[1;32m--> 373\u001b[0m out \u001b[39m=\u001b[39m func(\u001b[39m*\u001b[39;49margs, \u001b[39m*\u001b[39;49m\u001b[39m*\u001b[39;49mkwargs)\n\u001b[0;32m    374\u001b[0m \u001b[39mself\u001b[39m\u001b[39m.\u001b[39m_optimizer_step_code()\n\u001b[0;32m    376\u001b[0m \u001b[39m# call optimizer step post hooks\u001b[39;00m\n",
            "File \u001b[1;32mc:\\Users\\rasmu\\miniconda3\\envs\\deep\\Lib\\site-packages\\torch\\optim\\optimizer.py:76\u001b[0m, in \u001b[0;36m_use_grad_for_differentiable.<locals>._use_grad\u001b[1;34m(self, *args, **kwargs)\u001b[0m\n\u001b[0;32m     74\u001b[0m     torch\u001b[39m.\u001b[39mset_grad_enabled(\u001b[39mself\u001b[39m\u001b[39m.\u001b[39mdefaults[\u001b[39m'\u001b[39m\u001b[39mdifferentiable\u001b[39m\u001b[39m'\u001b[39m])\n\u001b[0;32m     75\u001b[0m     torch\u001b[39m.\u001b[39m_dynamo\u001b[39m.\u001b[39mgraph_break()\n\u001b[1;32m---> 76\u001b[0m     ret \u001b[39m=\u001b[39m func(\u001b[39mself\u001b[39;49m, \u001b[39m*\u001b[39;49margs, \u001b[39m*\u001b[39;49m\u001b[39m*\u001b[39;49mkwargs)\n\u001b[0;32m     77\u001b[0m \u001b[39mfinally\u001b[39;00m:\n\u001b[0;32m     78\u001b[0m     torch\u001b[39m.\u001b[39m_dynamo\u001b[39m.\u001b[39mgraph_break()\n",
            "File \u001b[1;32mc:\\Users\\rasmu\\miniconda3\\envs\\deep\\Lib\\site-packages\\torch\\optim\\adam.py:163\u001b[0m, in \u001b[0;36mAdam.step\u001b[1;34m(self, closure)\u001b[0m\n\u001b[0;32m    152\u001b[0m     beta1, beta2 \u001b[39m=\u001b[39m group[\u001b[39m'\u001b[39m\u001b[39mbetas\u001b[39m\u001b[39m'\u001b[39m]\n\u001b[0;32m    154\u001b[0m     \u001b[39mself\u001b[39m\u001b[39m.\u001b[39m_init_group(\n\u001b[0;32m    155\u001b[0m         group,\n\u001b[0;32m    156\u001b[0m         params_with_grad,\n\u001b[1;32m   (...)\u001b[0m\n\u001b[0;32m    160\u001b[0m         max_exp_avg_sqs,\n\u001b[0;32m    161\u001b[0m         state_steps)\n\u001b[1;32m--> 163\u001b[0m     adam(\n\u001b[0;32m    164\u001b[0m         params_with_grad,\n\u001b[0;32m    165\u001b[0m         grads,\n\u001b[0;32m    166\u001b[0m         exp_avgs,\n\u001b[0;32m    167\u001b[0m         exp_avg_sqs,\n\u001b[0;32m    168\u001b[0m         max_exp_avg_sqs,\n\u001b[0;32m    169\u001b[0m         state_steps,\n\u001b[0;32m    170\u001b[0m         amsgrad\u001b[39m=\u001b[39;49mgroup[\u001b[39m'\u001b[39;49m\u001b[39mamsgrad\u001b[39;49m\u001b[39m'\u001b[39;49m],\n\u001b[0;32m    171\u001b[0m         beta1\u001b[39m=\u001b[39;49mbeta1,\n\u001b[0;32m    172\u001b[0m         beta2\u001b[39m=\u001b[39;49mbeta2,\n\u001b[0;32m    173\u001b[0m         lr\u001b[39m=\u001b[39;49mgroup[\u001b[39m'\u001b[39;49m\u001b[39mlr\u001b[39;49m\u001b[39m'\u001b[39;49m],\n\u001b[0;32m    174\u001b[0m         weight_decay\u001b[39m=\u001b[39;49mgroup[\u001b[39m'\u001b[39;49m\u001b[39mweight_decay\u001b[39;49m\u001b[39m'\u001b[39;49m],\n\u001b[0;32m    175\u001b[0m         eps\u001b[39m=\u001b[39;49mgroup[\u001b[39m'\u001b[39;49m\u001b[39meps\u001b[39;49m\u001b[39m'\u001b[39;49m],\n\u001b[0;32m    176\u001b[0m         maximize\u001b[39m=\u001b[39;49mgroup[\u001b[39m'\u001b[39;49m\u001b[39mmaximize\u001b[39;49m\u001b[39m'\u001b[39;49m],\n\u001b[0;32m    177\u001b[0m         foreach\u001b[39m=\u001b[39;49mgroup[\u001b[39m'\u001b[39;49m\u001b[39mforeach\u001b[39;49m\u001b[39m'\u001b[39;49m],\n\u001b[0;32m    178\u001b[0m         capturable\u001b[39m=\u001b[39;49mgroup[\u001b[39m'\u001b[39;49m\u001b[39mcapturable\u001b[39;49m\u001b[39m'\u001b[39;49m],\n\u001b[0;32m    179\u001b[0m         differentiable\u001b[39m=\u001b[39;49mgroup[\u001b[39m'\u001b[39;49m\u001b[39mdifferentiable\u001b[39;49m\u001b[39m'\u001b[39;49m],\n\u001b[0;32m    180\u001b[0m         fused\u001b[39m=\u001b[39;49mgroup[\u001b[39m'\u001b[39;49m\u001b[39mfused\u001b[39;49m\u001b[39m'\u001b[39;49m],\n\u001b[0;32m    181\u001b[0m         grad_scale\u001b[39m=\u001b[39;49m\u001b[39mgetattr\u001b[39;49m(\u001b[39mself\u001b[39;49m, \u001b[39m\"\u001b[39;49m\u001b[39mgrad_scale\u001b[39;49m\u001b[39m\"\u001b[39;49m, \u001b[39mNone\u001b[39;49;00m),\n\u001b[0;32m    182\u001b[0m         found_inf\u001b[39m=\u001b[39;49m\u001b[39mgetattr\u001b[39;49m(\u001b[39mself\u001b[39;49m, \u001b[39m\"\u001b[39;49m\u001b[39mfound_inf\u001b[39;49m\u001b[39m\"\u001b[39;49m, \u001b[39mNone\u001b[39;49;00m),\n\u001b[0;32m    183\u001b[0m     )\n\u001b[0;32m    185\u001b[0m \u001b[39mreturn\u001b[39;00m loss\n",
            "File \u001b[1;32mc:\\Users\\rasmu\\miniconda3\\envs\\deep\\Lib\\site-packages\\torch\\optim\\adam.py:311\u001b[0m, in \u001b[0;36madam\u001b[1;34m(params, grads, exp_avgs, exp_avg_sqs, max_exp_avg_sqs, state_steps, foreach, capturable, differentiable, fused, grad_scale, found_inf, amsgrad, beta1, beta2, lr, weight_decay, eps, maximize)\u001b[0m\n\u001b[0;32m    308\u001b[0m \u001b[39melse\u001b[39;00m:\n\u001b[0;32m    309\u001b[0m     func \u001b[39m=\u001b[39m _single_tensor_adam\n\u001b[1;32m--> 311\u001b[0m func(params,\n\u001b[0;32m    312\u001b[0m      grads,\n\u001b[0;32m    313\u001b[0m      exp_avgs,\n\u001b[0;32m    314\u001b[0m      exp_avg_sqs,\n\u001b[0;32m    315\u001b[0m      max_exp_avg_sqs,\n\u001b[0;32m    316\u001b[0m      state_steps,\n\u001b[0;32m    317\u001b[0m      amsgrad\u001b[39m=\u001b[39;49mamsgrad,\n\u001b[0;32m    318\u001b[0m      beta1\u001b[39m=\u001b[39;49mbeta1,\n\u001b[0;32m    319\u001b[0m      beta2\u001b[39m=\u001b[39;49mbeta2,\n\u001b[0;32m    320\u001b[0m      lr\u001b[39m=\u001b[39;49mlr,\n\u001b[0;32m    321\u001b[0m      weight_decay\u001b[39m=\u001b[39;49mweight_decay,\n\u001b[0;32m    322\u001b[0m      eps\u001b[39m=\u001b[39;49meps,\n\u001b[0;32m    323\u001b[0m      maximize\u001b[39m=\u001b[39;49mmaximize,\n\u001b[0;32m    324\u001b[0m      capturable\u001b[39m=\u001b[39;49mcapturable,\n\u001b[0;32m    325\u001b[0m      differentiable\u001b[39m=\u001b[39;49mdifferentiable,\n\u001b[0;32m    326\u001b[0m      grad_scale\u001b[39m=\u001b[39;49mgrad_scale,\n\u001b[0;32m    327\u001b[0m      found_inf\u001b[39m=\u001b[39;49mfound_inf)\n",
            "File \u001b[1;32mc:\\Users\\rasmu\\miniconda3\\envs\\deep\\Lib\\site-packages\\torch\\optim\\adam.py:385\u001b[0m, in \u001b[0;36m_single_tensor_adam\u001b[1;34m(params, grads, exp_avgs, exp_avg_sqs, max_exp_avg_sqs, state_steps, grad_scale, found_inf, amsgrad, beta1, beta2, lr, weight_decay, eps, maximize, capturable, differentiable)\u001b[0m\n\u001b[0;32m    383\u001b[0m \u001b[39m# Decay the first and second moment running average coefficient\u001b[39;00m\n\u001b[0;32m    384\u001b[0m exp_avg\u001b[39m.\u001b[39mlerp_(grad, \u001b[39m1\u001b[39m \u001b[39m-\u001b[39m beta1)\n\u001b[1;32m--> 385\u001b[0m exp_avg_sq\u001b[39m.\u001b[39;49mmul_(beta2)\u001b[39m.\u001b[39maddcmul_(grad, grad\u001b[39m.\u001b[39mconj(), value\u001b[39m=\u001b[39m\u001b[39m1\u001b[39m \u001b[39m-\u001b[39m beta2)\n\u001b[0;32m    387\u001b[0m \u001b[39mif\u001b[39;00m capturable \u001b[39mor\u001b[39;00m differentiable:\n\u001b[0;32m    388\u001b[0m     step \u001b[39m=\u001b[39m step_t\n",
            "\u001b[1;31mKeyboardInterrupt\u001b[0m: "
          ]
        }
      ],
      "source": [
        "num_epochs =   # Define the number of epochs\n",
        "\n",
        "for epoch in range(num_epochs):\n",
        "    model.train()\n",
        "    for batch in train_loader:\n",
        "        inputs, labels = batch\n",
        "        optimizer.zero_grad()\n",
        "        outputs = model(inputs)\n",
        "        outputs = torch.squeeze(outputs)  # Squeeze the output to match label's shape\n",
        "        loss = loss_function(outputs, labels.float())  # Ensure labels are float type\n",
        "        loss.backward()\n",
        "        optimizer.step()\n",
        "\n",
        "    # Calculate training accuracy\n",
        "    train_accuracy = calculate_accuracy(train_loader, model)\n",
        "\n",
        "    # Switch model to evaluation mode for validation accuracy\n",
        "    model.eval()\n",
        "    val_accuracy = calculate_accuracy(val_loader, model)\n",
        "\n",
        "    print(f'Epoch {epoch+1}/{num_epochs}, Training Accuracy: {train_accuracy:.2f}, Validation Accuracy: {val_accuracy:.2f}')\n"
      ]
    },
    {
      "cell_type": "code",
      "execution_count": null,
      "metadata": {
        "id": "oHMDILdrLrSz"
      },
      "outputs": [],
      "source": []
    }
  ],
  "metadata": {
    "colab": {
      "provenance": []
    },
    "kernelspec": {
      "display_name": "homedanielbaunMaster1.SemesterDistributedenv",
      "language": "python",
      "name": "python3"
    },
    "language_info": {
      "codemirror_mode": {
        "name": "ipython",
        "version": 3
      },
      "file_extension": ".py",
      "mimetype": "text/x-python",
      "name": "python",
      "nbconvert_exporter": "python",
      "pygments_lexer": "ipython3",
      "version": "3.10.12"
    }
  },
  "nbformat": 4,
  "nbformat_minor": 0
}
