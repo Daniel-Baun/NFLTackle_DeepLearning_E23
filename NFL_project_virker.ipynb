{
  "cells": [
    {
      "cell_type": "code",
      "execution_count": 1,
      "metadata": {
        "id": "ZrlbHdcILrSl"
      },
      "outputs": [],
      "source": [
        "#%% import packages:\n",
        "import numpy as np\n",
        "import matplotlib.pyplot as plt\n",
        "import torch\n",
        "import torch.nn as nn\n",
        "import torch.nn.functional as F\n",
        "import numpy as np\n",
        "import os"
      ]
    },
    {
      "cell_type": "code",
      "execution_count": 2,
      "metadata": {
        "id": "RkeK9wFILrSq",
        "outputId": "7901d29e-aa21-484b-80f1-b16cadc1cb19"
      },
      "outputs": [
        {
          "name": "stdout",
          "output_type": "stream",
          "text": [
            "cuda is not available\n"
          ]
        }
      ],
      "source": [
        "#%% check if cuda is available:\n",
        "if torch.cuda.is_available():\n",
        "    print('cuda is available')\n",
        "    device = torch.device(\"cuda:0\")\n",
        "else:\n",
        "    print('cuda is not available')\n",
        "    device = torch.device(\"cpu\")"
      ]
    },
    {
      "cell_type": "code",
      "execution_count": 47,
      "metadata": {
        "id": "aC2bU_vrLrSt",
        "outputId": "b94ae362-6d7c-4cf5-e735-c74e3702dcb6"
      },
      "outputs": [
        {
          "name": "stdout",
          "output_type": "stream",
          "text": [
            "torch.Size([1, 8, 100, 100]) torch.Size([1])\n"
          ]
        }
      ],
      "source": [
        "import pandas as pd\n",
        "import torch\n",
        "from torch.utils.data import Dataset, DataLoader\n",
        "import numpy as np\n",
        "\n",
        "max_field_width = 53.3  # in yards\n",
        "max_field_height = 120  # in yards\n",
        "num_channels = 8  # 2 for position, 3 for player attributes, 3 for ball attributes\n",
        "\n",
        "class NFLDataset(Dataset):\n",
        "    def __init__(self, csv_file, grid_size=(50, 50), transform=None):\n",
        "        self.nfl_data = pd.read_csv(csv_file)\n",
        "        self.grid_size = grid_size\n",
        "        self.transform = transform\n",
        "\n",
        "    def __len__(self):\n",
        "        return len(self.nfl_data)\n",
        "\n",
        "    def __getitem__(self, idx):\n",
        "        data_row = self.nfl_data.iloc[idx]\n",
        "\n",
        "        # Initialize a grid with multiple channels\n",
        "        grid = np.zeros((num_channels, *self.grid_size))\n",
        "\n",
        "        # Center of the grid\n",
        "        center_x, center_y = self.grid_size[0] // 2, self.grid_size[1] // 2\n",
        "\n",
        "        # Normalize and translate player and ball positions\n",
        "        ball_x, ball_y = data_row['ball_x'], data_row['ball_y']\n",
        "        player_x, player_y = data_row['player_x'], data_row['player_y']\n",
        "\n",
        "        # Normalize positions\n",
        "        norm_player_x = int((player_x - ball_x) / max_field_width * self.grid_size[0]) + center_x\n",
        "        norm_player_y = int((player_y - ball_y) / max_field_height * self.grid_size[1]) + center_y\n",
        "\n",
        "        # Place player and ball in their respective position layers\n",
        "        if 0 <= norm_player_x < self.grid_size[0] and 0 <= norm_player_y < self.grid_size[1]:\n",
        "            grid[0, norm_player_x, norm_player_y] = 1  # Player position layer\n",
        "        grid[1, center_x, center_y] = 1  # Ball position layer (always at the center)\n",
        "\n",
        "        # Populate other attribute layers (speed, acceleration, direction) for player and ball\n",
        "        # Normalize these attributes as needed\n",
        "        grid[2, norm_player_x, norm_player_y] = data_row['player_s']  # Player speed\n",
        "        grid[3, norm_player_x, norm_player_y] = data_row['player_a']  # Player acceleration\n",
        "        grid[4, norm_player_x, norm_player_y] = data_row['player_dir']  # Player direction\n",
        "        grid[5, center_x, center_y] = data_row['ball_s']  # Ball speed\n",
        "        grid[6, center_x, center_y] = data_row['ball_a']  # Ball acceleration\n",
        "        grid[7, center_x, center_y] = data_row['ball_dir']  # Ball direction\n",
        "\n",
        "        grid_tensor = torch.tensor(grid, dtype=torch.float32)\n",
        "        #print(grid_tensor.shape)\n",
        "\n",
        "        label = torch.tensor(data_row['tackle'], dtype=torch.float32)\n",
        "        label.item()\n",
        "        #print(label.shape)\n",
        "\n",
        "        if self.transform:\n",
        "            grid_tensor = self.transform(grid_tensor)\n",
        "\n",
        "        return grid_tensor, label\n",
        "\n",
        "# Usage example\n",
        "nfl_dataset = NFLDataset(csv_file='extended_tackles_with_tracking_test_batch.csv', grid_size=(100, 100))\n",
        "\n",
        "# Create a DataLoader\n",
        "dataloader = DataLoader(nfl_dataset, batch_size=1, shuffle=True)\n",
        "\n",
        "# Example of iterating over the DataLoader\n",
        "for grid, label in dataloader:\n",
        "    print(grid.shape, label.shape)\n",
        "    break  # Remove this to iterate over the entire dataset\n"
      ]
    },
    {
      "cell_type": "code",
      "execution_count": 48,
      "metadata": {
        "id": "1YIWpPdTLrSu",
        "outputId": "ffb6f5a6-132f-4fa3-d485-b89fc93659a1"
      },
      "outputs": [
        {
          "name": "stdout",
          "output_type": "stream",
          "text": [
            "Label: 1.0\n"
          ]
        },
        {
          "data": {
            "image/png": "[encoded data removed]",
            "text/plain": [
              "<Figure size 640x480 with 2 Axes>"
            ]
          },
          "metadata": {},
          "output_type": "display_data"
        }
      ],
      "source": [
        "def visualize_grid(grid):\n",
        "    # Create a combined grid for visualization\n",
        "    # Assuming channel 0 is player position and channel 1 is ball position\n",
        "    combined_grid = np.zeros_like(grid[0])\n",
        "    combined_grid[grid[0] == 1] = 1  # Mark player positions\n",
        "    combined_grid[grid[1] == 1] = 2  # Mark ball positions\n",
        "\n",
        "    # Visualize the combined grid\n",
        "    plt.imshow(combined_grid, cmap='hot', interpolation='nearest')\n",
        "    plt.colorbar()\n",
        "    plt.title('Combined Player and Ball Positions')\n",
        "    plt.show()\n",
        "\n",
        "# Usage example\n",
        "nfl_dataset = NFLDataset(csv_file='extended_tackles_with_tracking_test_batch.csv', grid_size=(50, 50))\n",
        "\n",
        "# Test the visualization\n",
        "for i in range(20,21):  # Visualize the first 3 examples\n",
        "    grid, label = nfl_dataset[i]\n",
        "    print(f\"Label: {label}\")\n",
        "    visualize_grid(grid.numpy())\n"
      ]
    },
    {
      "cell_type": "code",
      "execution_count": 49,
      "metadata": {},
      "outputs": [],
      "source": [
        "size_of_grid = 150"
      ]
    },
    {
      "cell_type": "code",
      "execution_count": 50,
      "metadata": {
        "id": "fn2LrG0BLrSv"
      },
      "outputs": [],
      "source": [
        "import torch\n",
        "import torch.nn as nn\n",
        "import torch.optim as optim\n",
        "\n",
        "\n",
        "class SimpleCNN(nn.Module):\n",
        "    def __init__(self, num_channels=8):\n",
        "        super(SimpleCNN, self).__init__()\n",
        "        self.conv1 = nn.Conv2d(num_channels, 16, kernel_size=3, padding=1)\n",
        "        self.conv2 = nn.Conv2d(16, 32, kernel_size=3, padding=1)\n",
        "        self.fc1 = nn.Linear(32 * 75 * 75, 32)\n",
        "        self.fc2 = nn.Linear(32, 1)\n",
        "\n",
        "    def forward(self, x):\n",
        "        x = F.relu(self.conv1(x))\n",
        "        x = F.max_pool2d(F.relu(self.conv2(x)), 2)\n",
        "        x = torch.flatten(x, 1)\n",
        "        x = F.relu(self.fc1(x))\n",
        "        x = self.fc2(x)\n",
        "        return torch.sigmoid(x)\n",
        "    "
      ]
    },
    {
      "cell_type": "code",
      "execution_count": 51,
      "metadata": {
        "id": "-zf8P-3BLrSw"
      },
      "outputs": [],
      "source": [
        "model = SimpleCNN()\n",
        "loss_function = nn.BCELoss()\n",
        "optimizer = optim.Adam(model.parameters(), lr=0.001)"
      ]
    },
    {
      "cell_type": "code",
      "execution_count": 58,
      "metadata": {
        "id": "bDTSQxI7LrSx"
      },
      "outputs": [],
      "source": [
        "def calculate_accuracy(data_loader, model):\n",
        "    correct_predictions = 0\n",
        "    total_samples = 0\n",
        "\n",
        "    model.eval()  # Set the model to evaluation mode\n",
        "\n",
        "    with torch.no_grad():\n",
        "        for data in data_loader:\n",
        "            inputs, labels = data\n",
        "            outputs = model(inputs)\n",
        "\n",
        "            # Apply a threshold (e.g., 0.5) to the model's output to convert it into binary predictions\n",
        "            predictions = (outputs >= 0.5).float()\n",
        "\n",
        "            # Count correct predictions\n",
        "            correct_predictions += (predictions == labels).sum().item()\n",
        "            total_samples += labels.size(0)\n",
        "\n",
        "    # Calculate the accuracy\n",
        "    accuracy = (correct_predictions / total_samples) * 100.0\n",
        "    return accuracy\n",
        "\n",
        "def calculate_test_accuracy(test_loader, model):\n",
        "    correct_predictions = 0\n",
        "    total_samples = 0\n",
        "\n",
        "    model.eval()  # Set the model to evaluation mode\n",
        "\n",
        "    with torch.no_grad():\n",
        "        for data in test_loader:\n",
        "            inputs, labels = data\n",
        "            outputs = model(inputs)\n",
        "\n",
        "            # Apply a threshold (e.g., 0.5) to the model's output to convert it into binary predictions\n",
        "            predictions = (outputs >= 0.5).float()\n",
        "\n",
        "            # Count correct predictions\n",
        "            correct_predictions += (predictions == labels).sum().item()\n",
        "            total_samples += labels.size(0)\n",
        "\n",
        "    # Calculate the test accuracy\n",
        "    accuracy = (correct_predictions / total_samples) * 100.0\n",
        "    return accuracy\n"
      ]
    },
    {
      "cell_type": "code",
      "execution_count": 55,
      "metadata": {
        "id": "hiUsqH8zLrSx"
      },
      "outputs": [],
      "source": [
        "from torch.utils.data import random_split\n",
        "from torch.utils.data import DataLoader\n",
        "\n",
        "nfl_dataset = NFLDataset(csv_file='data/extended_tackles_with_tracking_mixed.csv', grid_size=(size_of_grid, size_of_grid))\n",
        "#nfl_dataset = NFLDataset(csv_file='extended_tackles_with_tracking_test_batch.csv', grid_size=(50, 50))\n",
        "\n",
        "# Define the proportions\n",
        "total_size = len(nfl_dataset)  # Use the nfl_dataset instance you already created\n",
        "train_size = int(total_size * 0.7)  # 70% of data\n",
        "val_size = int(total_size * 0.2)  # 20% of data\n",
        "test_size = total_size - train_size - val_size  # Remaining 10% for testing\n",
        "\n",
        "# Split the dataset\n",
        "train_dataset, val_dataset, test_dataset = random_split(nfl_dataset, [train_size, val_size, test_size])\n",
        "\n",
        "# Create DataLoaders for each set\n",
        "train_loader = DataLoader(train_dataset, batch_size=1, shuffle=True)\n",
        "val_loader = DataLoader(val_dataset, batch_size=1, shuffle=False)\n",
        "test_loader = DataLoader(test_dataset, batch_size=4, shuffle=False)\n"
      ]
    },
    {
      "cell_type": "code",
      "execution_count": 57,
      "metadata": {
        "id": "5H-3SK1ILrSy",
        "outputId": "accbe56b-e5c8-43d8-bdb4-72521828cedc"
      },
      "outputs": [
        {
          "name": "stdout",
          "output_type": "stream",
          "text": [
            "Epoch 1/10, Training Accuracy: 90.6475%, Validation Accuracy: 74.3590%\n",
            "Epoch 2/10, Training Accuracy: 88.4892%, Validation Accuracy: 74.3590%\n",
            "Epoch 3/10, Training Accuracy: 89.2086%, Validation Accuracy: 76.9231%\n",
            "Epoch 4/10, Training Accuracy: 89.2086%, Validation Accuracy: 71.7949%\n",
            "Epoch 5/10, Training Accuracy: 90.6475%, Validation Accuracy: 74.3590%\n",
            "Epoch 6/10, Training Accuracy: 91.3669%, Validation Accuracy: 74.3590%\n",
            "Epoch 7/10, Training Accuracy: 91.3669%, Validation Accuracy: 76.9231%\n",
            "Epoch 8/10, Training Accuracy: 89.9281%, Validation Accuracy: 74.3590%\n",
            "Epoch 9/10, Training Accuracy: 88.4892%, Validation Accuracy: 74.3590%\n",
            "Epoch 10/10, Training Accuracy: 92.0863%, Validation Accuracy: 74.3590%\n"
          ]
        }
      ],
      "source": [
        "num_epochs = 10\n",
        "model = SimpleCNN()\n",
        "for epoch in range(num_epochs):\n",
        "    model.train()\n",
        "    for batch in train_loader:\n",
        "        inputs, labels = batch\n",
        "        optimizer.zero_grad()\n",
        "        outputs = model(inputs).squeeze(1)  # Add a singleton dimension for the output\n",
        "        #outputs = torch.squeeze(outputs)  # Squeeze the output to match label's shape\n",
        "        loss = loss_function(outputs, labels.float()) # Ensure labels are float type\n",
        "        loss.backward()\n",
        "        optimizer.step()\n",
        "\n",
        "    # Calculate training accuracy\n",
        "    train_accuracy = calculate_accuracy(train_loader, model)\n",
        "\n",
        "    # Switch model to evaluation mode for validation accuracy\n",
        "    model.eval()\n",
        "    val_accuracy = calculate_accuracy(val_loader, model)\n",
        "\n",
        "    print(f'Epoch {epoch+1}/{num_epochs}, Training Accuracy: {train_accuracy:.4f}%, Validation Accuracy: {val_accuracy:.4f}%')\n"
      ]
    },
    {
      "cell_type": "code",
      "execution_count": 59,
      "metadata": {},
      "outputs": [],
      "source": [
        "# Save the model\n",
        "torch.save(model.state_dict(), 'model.pth')\n"
      ]
    },
    {
      "cell_type": "code",
      "execution_count": 61,
      "metadata": {},
      "outputs": [
        {
          "ename": "AttributeError",
          "evalue": "'collections.OrderedDict' object has no attribute 'eval'",
          "output_type": "error",
          "traceback": [
            "\u001b[1;31m---------------------------------------------------------------------------\u001b[0m",
            "\u001b[1;31mAttributeError\u001b[0m                            Traceback (most recent call last)",
            "\u001b[1;32mc:\\Users\\rasmu\\OneDrive - Aarhus universitet\\7. Semester\\Deep Learning\\Project\\NFLTackle_DeepLearning_E23\\NFL_project_virker.ipynb Cell 12\u001b[0m line \u001b[0;36m2\n\u001b[0;32m      <a href='vscode-notebook-cell:/c%3A/Users/rasmu/OneDrive%20-%20Aarhus%20universitet/7.%20Semester/Deep%20Learning/Project/NFLTackle_DeepLearning_E23/NFL_project_virker.ipynb#X16sZmlsZQ%3D%3D?line=0'>1</a>\u001b[0m model \u001b[39m=\u001b[39m torch\u001b[39m.\u001b[39mload(\u001b[39m'\u001b[39m\u001b[39mmodel.pth\u001b[39m\u001b[39m'\u001b[39m)\n\u001b[1;32m----> <a href='vscode-notebook-cell:/c%3A/Users/rasmu/OneDrive%20-%20Aarhus%20universitet/7.%20Semester/Deep%20Learning/Project/NFLTackle_DeepLearning_E23/NFL_project_virker.ipynb#X16sZmlsZQ%3D%3D?line=1'>2</a>\u001b[0m test_accuracy \u001b[39m=\u001b[39m calculate_test_accuracy(test_loader, model)\n\u001b[0;32m      <a href='vscode-notebook-cell:/c%3A/Users/rasmu/OneDrive%20-%20Aarhus%20universitet/7.%20Semester/Deep%20Learning/Project/NFLTackle_DeepLearning_E23/NFL_project_virker.ipynb#X16sZmlsZQ%3D%3D?line=3'>4</a>\u001b[0m \u001b[39mprint\u001b[39m(\u001b[39mf\u001b[39m\u001b[39m'\u001b[39m\u001b[39mTest Accuracy: \u001b[39m\u001b[39m{\u001b[39;00mtest_accuracy\u001b[39m:\u001b[39;00m\u001b[39m.2f\u001b[39m\u001b[39m}\u001b[39;00m\u001b[39m%\u001b[39m\u001b[39m'\u001b[39m)\n",
            "\u001b[1;32mc:\\Users\\rasmu\\OneDrive - Aarhus universitet\\7. Semester\\Deep Learning\\Project\\NFLTackle_DeepLearning_E23\\NFL_project_virker.ipynb Cell 12\u001b[0m line \u001b[0;36m2\n\u001b[0;32m     <a href='vscode-notebook-cell:/c%3A/Users/rasmu/OneDrive%20-%20Aarhus%20universitet/7.%20Semester/Deep%20Learning/Project/NFLTackle_DeepLearning_E23/NFL_project_virker.ipynb#X16sZmlsZQ%3D%3D?line=23'>24</a>\u001b[0m correct_predictions \u001b[39m=\u001b[39m \u001b[39m0\u001b[39m\n\u001b[0;32m     <a href='vscode-notebook-cell:/c%3A/Users/rasmu/OneDrive%20-%20Aarhus%20universitet/7.%20Semester/Deep%20Learning/Project/NFLTackle_DeepLearning_E23/NFL_project_virker.ipynb#X16sZmlsZQ%3D%3D?line=24'>25</a>\u001b[0m total_samples \u001b[39m=\u001b[39m \u001b[39m0\u001b[39m\n\u001b[1;32m---> <a href='vscode-notebook-cell:/c%3A/Users/rasmu/OneDrive%20-%20Aarhus%20universitet/7.%20Semester/Deep%20Learning/Project/NFLTackle_DeepLearning_E23/NFL_project_virker.ipynb#X16sZmlsZQ%3D%3D?line=26'>27</a>\u001b[0m model\u001b[39m.\u001b[39;49meval()  \u001b[39m# Set the model to evaluation mode\u001b[39;00m\n\u001b[0;32m     <a href='vscode-notebook-cell:/c%3A/Users/rasmu/OneDrive%20-%20Aarhus%20universitet/7.%20Semester/Deep%20Learning/Project/NFLTackle_DeepLearning_E23/NFL_project_virker.ipynb#X16sZmlsZQ%3D%3D?line=28'>29</a>\u001b[0m \u001b[39mwith\u001b[39;00m torch\u001b[39m.\u001b[39mno_grad():\n\u001b[0;32m     <a href='vscode-notebook-cell:/c%3A/Users/rasmu/OneDrive%20-%20Aarhus%20universitet/7.%20Semester/Deep%20Learning/Project/NFLTackle_DeepLearning_E23/NFL_project_virker.ipynb#X16sZmlsZQ%3D%3D?line=29'>30</a>\u001b[0m     \u001b[39mfor\u001b[39;00m data \u001b[39min\u001b[39;00m test_loader:\n",
            "\u001b[1;31mAttributeError\u001b[0m: 'collections.OrderedDict' object has no attribute 'eval'"
          ]
        }
      ],
      "source": [
        "model = torch.load('model.pth')\n",
        "test_accuracy = calculate_test_accuracy(test_loader, model)\n",
        "\n",
        "print(f'Test Accuracy: {test_accuracy:.2f}%')"
      ]
    },
    {
      "cell_type": "code",
      "execution_count": null,
      "metadata": {},
      "outputs": [],
      "source": []
    }
  ],
  "metadata": {
    "colab": {
      "provenance": []
    },
    "kernelspec": {
      "display_name": "homedanielbaunMaster1.SemesterDistributedenv",
      "language": "python",
      "name": "python3"
    },
    "language_info": {
      "codemirror_mode": {
        "name": "ipython",
        "version": 3
      },
      "file_extension": ".py",
      "mimetype": "text/x-python",
      "name": "python",
      "nbconvert_exporter": "python",
      "pygments_lexer": "ipython3",
      "version": "3.11.5"
    }
  },
  "nbformat": 4,
  "nbformat_minor": 0
}
