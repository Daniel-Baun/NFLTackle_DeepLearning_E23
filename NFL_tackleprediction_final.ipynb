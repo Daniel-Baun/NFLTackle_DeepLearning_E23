{
  "cells": [
    {
      "cell_type": "code",
      "execution_count": null,
      "metadata": {
        "id": "W0wO08ncL94Y"
      },
      "outputs": [],
      "source": [
        "#%% import packages:\n",
        "import numpy as np\n",
        "import matplotlib.pyplot as plt\n",
        "import torch\n",
        "import torch.nn as nn\n",
        "import torch.nn.functional as F\n",
        "import numpy as np\n",
        "import os\n"
      ]
    },
    {
      "cell_type": "code",
      "execution_count": null,
      "metadata": {
        "colab": {
          "base_uri": "https://localhost:8080/"
        },
        "id": "OlGbTfWvMEFW",
        "outputId": "8579036f-2eed-4b63-b654-5961c4215715"
      },
      "outputs": [
        {
          "name": "stdout",
          "output_type": "stream",
          "text": [
            "cuda is available\n"
          ]
        }
      ],
      "source": [
        "#%% check if cuda is available:\n",
        "if torch.cuda.is_available():\n",
        "    print('cuda is available')\n",
        "    device = torch.device(\"cuda:0\")\n",
        "else:\n",
        "    print('cuda is not available')\n",
        "    device = torch.device(\"cpu\")"
      ]
    },
    {
      "cell_type": "code",
      "execution_count": null,
      "metadata": {
        "id": "RIbF-xqHMEbr"
      },
      "outputs": [],
      "source": [
        "import pandas as pd\n",
        "import torch\n",
        "from torch.utils.data import Dataset, DataLoader\n",
        "import numpy as np\n",
        "\n",
        "max_field_width = 53.3  # in yards\n",
        "max_field_height = 120  # in yards\n",
        "num_channels = 8  # 2 for position, 3 for player attributes, 3 for ball attributes\n",
        "max_distance = 50.08118409143298\n",
        "\n",
        "class NFLDataset(Dataset):\n",
        "    def __init__(self, csv_file, grid_size, transform=None):\n",
        "        self.nfl_data = pd.read_csv(csv_file)\n",
        "        self.grid_size = grid_size\n",
        "        self.transform = transform\n",
        "\n",
        "    def __len__(self):\n",
        "        return len(self.nfl_data)\n",
        "\n",
        "    def __getitem__(self, idx):\n",
        "        data_row = self.nfl_data.iloc[idx]\n",
        "\n",
        "        # Initialize a grid with multiple channels\n",
        "        grid = np.zeros((num_channels, *self.grid_size))\n",
        "\n",
        "        # Center of the grid\n",
        "        center_x, center_y = self.grid_size[0] // 2, self.grid_size[1] // 2\n",
        "\n",
        "        # Normalize and translate player and ball positions\n",
        "        ball_x, ball_y = data_row['ball_x'], data_row['ball_y']\n",
        "        player_x, player_y = data_row['player_x'], data_row['player_y']\n",
        "\n",
        "        # Normalize positions\n",
        "        norm_player_x = int((player_x - ball_x) / max_field_width * self.grid_size[0]) + center_x\n",
        "        norm_player_y = int((player_y - ball_y) / max_field_height * self.grid_size[1]) + center_y\n",
        "\n",
        "        # Ensure the normalized positions are within bounds\n",
        "        norm_player_x = max(0, min(self.grid_size[0] - 1, norm_player_x))\n",
        "        norm_player_y = max(0, min(self.grid_size[1] - 1, norm_player_y))\n",
        "\n",
        "        # Place player and ball in their respective position layers\n",
        "        grid[0, norm_player_x, norm_player_y] = 1  # Player position layer\n",
        "        grid[1, center_x, center_y] = 1  # Ball position layer (always at the center)\n",
        "\n",
        "        # Populate other attribute layers (speed, acceleration, direction) for player and ball\n",
        "        # Normalize these attributes as needed\n",
        "        grid[2, norm_player_x, norm_player_y] = data_row['player_s']  # Player speed\n",
        "        grid[3, norm_player_x, norm_player_y] = data_row['player_a']  # Player acceleration\n",
        "        grid[4, norm_player_x, norm_player_y] = data_row['player_dir']  # Player direction\n",
        "        grid[5, center_x, center_y] = data_row['ball_s']  # Ball speed\n",
        "        grid[6, center_x, center_y] = data_row['ball_a']  # Ball acceleration\n",
        "        grid[7, center_x, center_y] = data_row['ball_dir']  # Ball direction\n",
        "\n",
        "        grid_tensor = torch.tensor(grid, dtype=torch.float32)\n",
        "        # print(grid_tensor.shape)\n",
        "\n",
        "        label = torch.tensor(data_row['tackle'], dtype=torch.float32)\n",
        "        label.item()\n",
        "        # print(label.shape)\n",
        "\n",
        "        if self.transform:\n",
        "            grid_tensor = self.transform(grid_tensor)\n",
        "\n",
        "        return grid_tensor, label\n"
      ]
    },
    {
      "cell_type": "code",
      "execution_count": null,
      "metadata": {
        "id": "HTVACcwcMFzm"
      },
      "outputs": [],
      "source": [
        "import torch\n",
        "import torch.nn as nn\n",
        "import torch.optim as optim\n",
        "\n",
        "class SimpleCNN(nn.Module):\n",
        "    def __init__(self, num_channels=8, dropout_rate=0.0):\n",
        "        super(SimpleCNN, self).__init__()\n",
        "        self.conv1 = nn.Conv2d(num_channels, 16, kernel_size=3, padding=1)\n",
        "        self.conv2 = nn.Conv2d(16, 32, kernel_size=3, padding=1)\n",
        "        self.conv3 = nn.Conv2d(32, 64, kernel_size=3, padding=1)\n",
        "        self.dropout1 = nn.Dropout(p=dropout_rate)  # Dropout layer added\n",
        "        self.fc1 = nn.Linear(64 * 75 * 75, 64)\n",
        "        self.fc2 = nn.Linear(64, 32)\n",
        "        self.fc3 = nn.Linear(32, 1)\n",
        "\n",
        "    def forward(self, x):\n",
        "        x = F.relu(self.conv1(x))\n",
        "        x = F.max_pool2d(F.relu(self.conv2(x)), 2)\n",
        "        x = F.relu(self.conv3(x))\n",
        "        x = self.dropout1(x) # Apply dropout after the third convolutional layer\n",
        "        x = torch.flatten(x, 1)\n",
        "        x = F.relu(self.fc1(x))\n",
        "        x = F.relu(self.fc2(x))\n",
        "        x = self.fc3(x)\n",
        "        return torch.sigmoid(x)\n",
        "\n",
        "class LargerCNN(nn.Module):\n",
        "    def __init__(self, num_channels=8):\n",
        "        super(LargerCNN, self).__init__()\n",
        "        self.conv1 = nn.Conv2d(num_channels, 16, kernel_size=3, padding=1)\n",
        "        self.conv2 = nn.Conv2d(16, 32, kernel_size=3, padding=1)\n",
        "        self.conv3 = nn.Conv2d(32, 64, kernel_size=3, padding=1)\n",
        "        self.conv4 = nn.Conv2d(64, 128, kernel_size=3, padding=1)\n",
        "\n",
        "\n",
        "        # Assuming input image size is 150x150\n",
        "        self.fc1 = nn.Linear(175232, 512)  # Adjusted the input size\n",
        "        self.fc2 = nn.Linear(512, 256)\n",
        "        self.fc3 = nn.Linear(256, 128)\n",
        "        self.fc4 = nn.Linear(128, 1)\n",
        "\n",
        "    def forward(self, x):\n",
        "        # Convolutional layers with max pooling\n",
        "        x = F.relu(self.conv1(x))\n",
        "        x = F.max_pool2d(F.relu(self.conv2(x)), 2)\n",
        "\n",
        "        x = F.relu(self.conv3(x))\n",
        "        x = F.max_pool2d(F.relu(self.conv4(x)), 2)\n",
        "\n",
        "        x = torch.flatten(x, 1)\n",
        "\n",
        "        # Fully connected layers with ReLU activation\n",
        "        x = F.relu(self.fc1(x))\n",
        "        x = F.relu(self.fc2(x))\n",
        "        x = F.relu(self.fc3(x))\n",
        "\n",
        "        # Output layer with sigmoid activation for binary classification\n",
        "        x = self.fc4(x)\n",
        "        return torch.sigmoid(x)"
      ]
    },
    {
      "cell_type": "code",
      "execution_count": null,
      "metadata": {
        "id": "PWibU5n1MLyA"
      },
      "outputs": [],
      "source": [
        "def calculate_accuracy(data_loader, model):\n",
        "    correct_predictions = 0\n",
        "    total_samples = 0\n",
        "\n",
        "    model.eval()  # Set the model to evaluation mode\n",
        "\n",
        "    with torch.no_grad():\n",
        "        for data in data_loader:\n",
        "            inputs, labels = data\n",
        "            inputs = inputs.to(device)\n",
        "            labels = labels.to(device)\n",
        "\n",
        "            outputs = model(inputs)\n",
        "\n",
        "            # Apply a threshold (e.g., 0.5) to the model's output to convert it into binary predictions\n",
        "            predictions = (outputs >= 0.5).float()\n",
        "\n",
        "            # Count correct predictions in the current batch\n",
        "            correct_predictions += (predictions == labels).sum().item()\n",
        "\n",
        "            # Accumulate total samples in the current batch\n",
        "            total_samples += labels.size(0)\n",
        "\n",
        "    # Calculate the overall accuracy across the entire validation set\n",
        "    accuracy = (correct_predictions / total_samples) * 100.0\n",
        "    return accuracy\n"
      ]
    },
    {
      "cell_type": "code",
      "execution_count": null,
      "metadata": {
        "colab": {
          "base_uri": "https://localhost:8080/"
        },
        "id": "_xdz3ZsJMMFC",
        "outputId": "f1c3407a-60e1-49f9-c1da-0b589e7d4c47"
      },
      "outputs": [
        {
          "name": "stdout",
          "output_type": "stream",
          "text": [
            "Mounted at /content/drive\n"
          ]
        }
      ],
      "source": [
        "from google.colab import drive\n",
        "drive.mount('/content/drive')"
      ]
    },
    {
      "cell_type": "code",
      "execution_count": null,
      "metadata": {
        "colab": {
          "base_uri": "https://localhost:8080/"
        },
        "id": "z1TCXRTgMN36",
        "outputId": "1b4e70bb-857d-4067-a91c-7bf02a34a245"
      },
      "outputs": [
        {
          "name": "stdout",
          "output_type": "stream",
          "text": [
            "/content/drive/MyDrive/AU/Deep learning\n"
          ]
        }
      ],
      "source": [
        "%cd 'drive/MyDrive/AU/Deep learning'\n",
        "\n"
      ]
    },
    {
      "cell_type": "code",
      "execution_count": null,
      "metadata": {
        "id": "Fdql5GduMREe"
      },
      "outputs": [],
      "source": [
        "from torch.utils.data import random_split\n",
        "from torch.utils.data import DataLoader\n",
        "#nfl_dataset_big = NFLDataset(csv_file='extended_tackles_with_tracking.csv', grid_size=(50, 50))\n",
        "nfl_dataset = NFLDataset(csv_file='Data/extended_tackles_with_tracking_full.csv', grid_size=(150, 150))\n",
        "\n",
        "# Define the proportions\n",
        "total_size = len(nfl_dataset)  # Use the nfl_dataset instance you already created\n",
        "train_size = int(total_size * 0.7)  # 70% of data\n",
        "val_size = int(total_size * 0.2)  # 20% of data\n",
        "test_size = total_size - train_size - val_size  # Remaining 10% for testing\n",
        "\n",
        "# Split the dataset\n",
        "train_dataset, val_dataset, test_dataset = random_split(nfl_dataset, [train_size, val_size, test_size])\n",
        "\n",
        "# Create DataLoaders for each set\n",
        "train_loader = DataLoader(train_dataset, batch_size=1, shuffle=True)\n",
        "val_loader = DataLoader(val_dataset, batch_size=1, shuffle=False)\n",
        "test_loader = DataLoader(test_dataset, batch_size=1, shuffle=False)\n"
      ]
    },
    {
      "cell_type": "code",
      "execution_count": null,
      "metadata": {
        "colab": {
          "base_uri": "https://localhost:8080/"
        },
        "id": "vbWxrVf5MZyq",
        "outputId": "007a3b21-a1a4-4926-b6ee-d7d0ed23e27e"
      },
      "outputs": [
        {
          "name": "stdout",
          "output_type": "stream",
          "text": [
            "Collecting ray\n",
            "  Downloading ray-2.8.1-cp310-cp310-manylinux2014_x86_64.whl (62.6 MB)\n",
            "\u001b[2K     \u001b[90m━━━━━━━━━━━━━━━━━━━━━━━━━━━━━━━━━━━━━━━━\u001b[0m \u001b[32m62.6/62.6 MB\u001b[0m \u001b[31m30.9 MB/s\u001b[0m eta \u001b[36m0:00:00\u001b[0m\n",
            "\u001b[?25hCollecting wandb\n",
            "  Downloading wandb-0.16.1-py3-none-any.whl (2.1 MB)\n",
            "\u001b[2K     \u001b[90m━━━━━━━━━━━━━━━━━━━━━━━━━━━━━━━━━━━━━━━━\u001b[0m \u001b[32m2.1/2.1 MB\u001b[0m \u001b[31m99.9 MB/s\u001b[0m eta \u001b[36m0:00:00\u001b[0m\n",
            "\u001b[?25hRequirement already satisfied: click>=7.0 in /usr/local/lib/python3.10/dist-packages (from ray) (8.1.7)\n",
            "Requirement already satisfied: filelock in /usr/local/lib/python3.10/dist-packages (from ray) (3.13.1)\n",
            "Requirement already satisfied: jsonschema in /usr/local/lib/python3.10/dist-packages (from ray) (4.19.2)\n",
            "Requirement already satisfied: msgpack<2.0.0,>=1.0.0 in /usr/local/lib/python3.10/dist-packages (from ray) (1.0.7)\n",
            "Requirement already satisfied: packaging in /usr/local/lib/python3.10/dist-packages (from ray) (23.2)\n",
            "Requirement already satisfied: protobuf!=3.19.5,>=3.15.3 in /usr/local/lib/python3.10/dist-packages (from ray) (3.20.3)\n",
            "Requirement already satisfied: pyyaml in /usr/local/lib/python3.10/dist-packages (from ray) (6.0.1)\n",
            "Requirement already satisfied: aiosignal in /usr/local/lib/python3.10/dist-packages (from ray) (1.3.1)\n",
            "Requirement already satisfied: frozenlist in /usr/local/lib/python3.10/dist-packages (from ray) (1.4.0)\n",
            "Requirement already satisfied: requests in /usr/local/lib/python3.10/dist-packages (from ray) (2.31.0)\n",
            "Requirement already satisfied: numpy>=1.19.3 in /usr/local/lib/python3.10/dist-packages (from ray) (1.23.5)\n",
            "Collecting GitPython!=3.1.29,>=1.0.0 (from wandb)\n",
            "  Downloading GitPython-3.1.40-py3-none-any.whl (190 kB)\n",
            "\u001b[2K     \u001b[90m━━━━━━━━━━━━━━━━━━━━━━━━━━━━━━━━━━━━━━━━\u001b[0m \u001b[32m190.6/190.6 kB\u001b[0m \u001b[31m24.9 MB/s\u001b[0m eta \u001b[36m0:00:00\u001b[0m\n",
            "\u001b[?25hRequirement already satisfied: psutil>=5.0.0 in /usr/local/lib/python3.10/dist-packages (from wandb) (5.9.5)\n",
            "Collecting sentry-sdk>=1.0.0 (from wandb)\n",
            "  Downloading sentry_sdk-1.38.0-py2.py3-none-any.whl (252 kB)\n",
            "\u001b[2K     \u001b[90m━━━━━━━━━━━━━━━━━━━━━━━━━━━━━━━━━━━━━━━━\u001b[0m \u001b[32m252.8/252.8 kB\u001b[0m \u001b[31m31.5 MB/s\u001b[0m eta \u001b[36m0:00:00\u001b[0m\n",
            "\u001b[?25hCollecting docker-pycreds>=0.4.0 (from wandb)\n",
            "  Downloading docker_pycreds-0.4.0-py2.py3-none-any.whl (9.0 kB)\n",
            "Collecting setproctitle (from wandb)\n",
            "  Downloading setproctitle-1.3.3-cp310-cp310-manylinux_2_5_x86_64.manylinux1_x86_64.manylinux_2_17_x86_64.manylinux2014_x86_64.whl (30 kB)\n",
            "Requirement already satisfied: setuptools in /usr/local/lib/python3.10/dist-packages (from wandb) (67.7.2)\n",
            "Requirement already satisfied: appdirs>=1.4.3 in /usr/local/lib/python3.10/dist-packages (from wandb) (1.4.4)\n",
            "Requirement already satisfied: pandas in /usr/local/lib/python3.10/dist-packages (from ray) (1.5.3)\n",
            "Collecting tensorboardX>=1.9 (from ray)\n",
            "  Downloading tensorboardX-2.6.2.2-py2.py3-none-any.whl (101 kB)\n",
            "\u001b[2K     \u001b[90m━━━━━━━━━━━━━━━━━━━━━━━━━━━━━━━━━━━━━━━━\u001b[0m \u001b[32m101.7/101.7 kB\u001b[0m \u001b[31m15.4 MB/s\u001b[0m eta \u001b[36m0:00:00\u001b[0m\n",
            "\u001b[?25hRequirement already satisfied: pyarrow>=6.0.1 in /usr/local/lib/python3.10/dist-packages (from ray) (9.0.0)\n",
            "Requirement already satisfied: fsspec in /usr/local/lib/python3.10/dist-packages (from ray) (2023.6.0)\n",
            "Requirement already satisfied: six>=1.4.0 in /usr/local/lib/python3.10/dist-packages (from docker-pycreds>=0.4.0->wandb) (1.16.0)\n",
            "Collecting gitdb<5,>=4.0.1 (from GitPython!=3.1.29,>=1.0.0->wandb)\n",
            "  Downloading gitdb-4.0.11-py3-none-any.whl (62 kB)\n",
            "\u001b[2K     \u001b[90m━━━━━━━━━━━━━━━━━━━━━━━━━━━━━━━━━━━━━━━━\u001b[0m \u001b[32m62.7/62.7 kB\u001b[0m \u001b[31m9.8 MB/s\u001b[0m eta \u001b[36m0:00:00\u001b[0m\n",
            "\u001b[?25hRequirement already satisfied: charset-normalizer<4,>=2 in /usr/local/lib/python3.10/dist-packages (from requests->ray) (3.3.2)\n",
            "Requirement already satisfied: idna<4,>=2.5 in /usr/local/lib/python3.10/dist-packages (from requests->ray) (3.6)\n",
            "Requirement already satisfied: urllib3<3,>=1.21.1 in /usr/local/lib/python3.10/dist-packages (from requests->ray) (2.0.7)\n",
            "Requirement already satisfied: certifi>=2017.4.17 in /usr/local/lib/python3.10/dist-packages (from requests->ray) (2023.11.17)\n",
            "Requirement already satisfied: attrs>=22.2.0 in /usr/local/lib/python3.10/dist-packages (from jsonschema->ray) (23.1.0)\n",
            "Requirement already satisfied: jsonschema-specifications>=2023.03.6 in /usr/local/lib/python3.10/dist-packages (from jsonschema->ray) (2023.11.2)\n",
            "Requirement already satisfied: referencing>=0.28.4 in /usr/local/lib/python3.10/dist-packages (from jsonschema->ray) (0.31.1)\n",
            "Requirement already satisfied: rpds-py>=0.7.1 in /usr/local/lib/python3.10/dist-packages (from jsonschema->ray) (0.13.2)\n",
            "Requirement already satisfied: python-dateutil>=2.8.1 in /usr/local/lib/python3.10/dist-packages (from pandas->ray) (2.8.2)\n",
            "Requirement already satisfied: pytz>=2020.1 in /usr/local/lib/python3.10/dist-packages (from pandas->ray) (2023.3.post1)\n",
            "Collecting smmap<6,>=3.0.1 (from gitdb<5,>=4.0.1->GitPython!=3.1.29,>=1.0.0->wandb)\n",
            "  Downloading smmap-5.0.1-py3-none-any.whl (24 kB)\n",
            "Installing collected packages: tensorboardX, smmap, setproctitle, sentry-sdk, docker-pycreds, gitdb, GitPython, wandb, ray\n",
            "Successfully installed GitPython-3.1.40 docker-pycreds-0.4.0 gitdb-4.0.11 ray-2.8.1 sentry-sdk-1.38.0 setproctitle-1.3.3 smmap-5.0.1 tensorboardX-2.6.2.2 wandb-0.16.1\n"
          ]
        }
      ],
      "source": [
        "!pip install ray wandb ray[tune]"
      ]
    },
    {
      "cell_type": "code",
      "execution_count": null,
      "metadata": {
        "id": "jbBcUbY5MfUQ"
      },
      "outputs": [],
      "source": [
        "def calculate_test_accuracy(test_loader, model, device):\n",
        "    correct_predictions = 0\n",
        "    total_samples = 0\n",
        "\n",
        "    model.eval()  # Set the model to evaluation mode\n",
        "\n",
        "    with torch.no_grad():\n",
        "        for data in test_loader:\n",
        "            inputs, labels = data\n",
        "            inputs = inputs.to(device)\n",
        "            labels = labels.to(device)\n",
        "            outputs = model(inputs)\n",
        "\n",
        "            # Apply a threshold (e.g., 0.5) to the model's output to convert it into binary predictions\n",
        "            predictions = (outputs >= 0.5).float()\n",
        "\n",
        "            # Count correct predictions\n",
        "            correct_predictions += (predictions == labels).sum().item()\n",
        "            total_samples += labels.size(0)\n",
        "\n",
        "    # Calculate the test accuracy\n",
        "    accuracy = (correct_predictions / total_samples) * 100.0\n",
        "    return accuracy\n"
      ]
    },
    {
      "cell_type": "code",
      "execution_count": null,
      "metadata": {
        "colab": {
          "base_uri": "https://localhost:8080/",
          "height": 1000,
          "referenced_widgets": [
            "4d17dad01eea46fcaea1aa46c5ed38d8",
            "8d510abc38ac43e599e09beefe037ecf",
            "597a17d98f394af9a5439fc468f213ef",
            "ff28e3159ae44ed4a070c9ffb73bcce2",
            "06e84ad3f7db4b0896b53b32c130127a",
            "9a583612cf794352bf7d1fcc06974450",
            "3280e154496448a38e1bb9b131a3bbab",
            "74ecde50eac0484c9c5ca6e5faa38002",
            "83d936b90c1c48d082fc8c93907917a6",
            "f48713cce591405fa7372b00b4a0b8ff",
            "965005ae91ce4c15b11baac82ce298fd",
            "56b69932902849e9b40ee9a13f5722ce",
            "2004607478f1436bb1f76942d6293f4b",
            "247723e72cf94731892310bd3a2a036d",
            "6d5a7e9b294f4a41a9a42f27021be086",
            "da32c71cde70420086f78a0fdc5e58ba"
          ]
        },
        "id": "aKpdjTTyMftv",
        "outputId": "90597b3e-0a93-4824-9877-39ec193dcf2a"
      },
      "outputs": [
        {
          "data": {
            "text/html": [
              "Tracking run with wandb version 0.16.1"
            ],
            "text/plain": [
              "<IPython.core.display.HTML object>"
            ]
          },
          "metadata": {},
          "output_type": "display_data"
        },
        {
          "data": {
            "text/html": [
              "Run data is saved locally in <code>/content/drive/MyDrive/AU/Deep learning/wandb/run-20231211_140418-f16hvmus</code>"
            ],
            "text/plain": [
              "<IPython.core.display.HTML object>"
            ]
          },
          "metadata": {},
          "output_type": "display_data"
        },
        {
          "data": {
            "text/html": [
              "Syncing run <strong><a href='https://wandb.ai/nfl-deep/NFL2/runs/f16hvmus' target=\"_blank\">run3_new</a></strong> to <a href='https://wandb.ai/nfl-deep/NFL2' target=\"_blank\">Weights & Biases</a> (<a href='https://wandb.me/run' target=\"_blank\">docs</a>)<br/>"
            ],
            "text/plain": [
              "<IPython.core.display.HTML object>"
            ]
          },
          "metadata": {},
          "output_type": "display_data"
        },
        {
          "data": {
            "text/html": [
              " View project at <a href='https://wandb.ai/nfl-deep/NFL2' target=\"_blank\">https://wandb.ai/nfl-deep/NFL2</a>"
            ],
            "text/plain": [
              "<IPython.core.display.HTML object>"
            ]
          },
          "metadata": {},
          "output_type": "display_data"
        },
        {
          "data": {
            "text/html": [
              " View run at <a href='https://wandb.ai/nfl-deep/NFL2/runs/f16hvmus' target=\"_blank\">https://wandb.ai/nfl-deep/NFL2/runs/f16hvmus</a>"
            ],
            "text/plain": [
              "<IPython.core.display.HTML object>"
            ]
          },
          "metadata": {},
          "output_type": "display_data"
        },
        {
          "name": "stdout",
          "output_type": "stream",
          "text": [
            "Run name: run3_new,Epoch 1/10, Training Loss: 0.9518, Training Accuracy: 81.9461%, Validation Loss: 0.9740, Validation Accuracy: 80.1115%, Epoch time: 46.33906030654907s\n",
            "Run name: run3_new,Epoch 2/10, Training Loss: 0.8885, Training Accuracy: 82.6762%, Validation Loss: 0.9072, Validation Accuracy: 80.7156%, Epoch time: 45.0331175327301s\n",
            "Run name: run3_new,Epoch 3/10, Training Loss: 0.7975, Training Accuracy: 85.0657%, Validation Loss: 0.8185, Validation Accuracy: 82.9926%, Epoch time: 44.96333384513855s\n",
            "Run name: run3_new,Epoch 4/10, Training Loss: 0.7377, Training Accuracy: 84.9993%, Validation Loss: 0.8619, Validation Accuracy: 83.0855%, Epoch time: 44.52966547012329s\n",
            "Run name: run3_new,Epoch 5/10, Training Loss: 0.6937, Training Accuracy: 87.3755%, Validation Loss: 0.7908, Validation Accuracy: 84.1078%, Epoch time: 45.210005044937134s\n",
            "Run name: run3_new,Epoch 6/10, Training Loss: 0.6731, Training Accuracy: 86.5260%, Validation Loss: 0.8284, Validation Accuracy: 84.2937%, Epoch time: 44.06073784828186s\n",
            "Run name: run3_new,Epoch 7/10, Training Loss: 0.6534, Training Accuracy: 88.1853%, Validation Loss: 0.7768, Validation Accuracy: 84.8978%, Epoch time: 43.925379276275635s\n",
            "Run name: run3_new,Epoch 8/10, Training Loss: 0.6337, Training Accuracy: 89.0482%, Validation Loss: 0.7485, Validation Accuracy: 85.5483%, Epoch time: 44.54942870140076s\n",
            "Run name: run3_new,Epoch 9/10, Training Loss: 0.6191, Training Accuracy: 89.1677%, Validation Loss: 0.7396, Validation Accuracy: 85.9665%, Epoch time: 44.66659069061279s\n",
            "Run name: run3_new,Epoch 10/10, Training Loss: 0.6110, Training Accuracy: 89.1278%, Validation Loss: 0.7227, Validation Accuracy: 85.7342%, Epoch time: 45.93933176994324s\n"
          ]
        },
        {
          "data": {
            "application/vnd.jupyter.widget-view+json": {
              "model_id": "4d17dad01eea46fcaea1aa46c5ed38d8",
              "version_major": 2,
              "version_minor": 0
            },
            "text/plain": [
              "VBox(children=(Label(value='0.002 MB of 0.002 MB uploaded\\r'), FloatProgress(value=1.0, max=1.0)))"
            ]
          },
          "metadata": {},
          "output_type": "display_data"
        },
        {
          "data": {
            "text/html": [
              "<style>\n",
              "    table.wandb td:nth-child(1) { padding: 0 10px; text-align: left ; width: auto;} td:nth-child(2) {text-align: left ; width: 100%}\n",
              "    .wandb-row { display: flex; flex-direction: row; flex-wrap: wrap; justify-content: flex-start; width: 100% }\n",
              "    .wandb-col { display: flex; flex-direction: column; flex-basis: 100%; flex: 1; padding: 10px; }\n",
              "    </style>\n",
              "<div class=\"wandb-row\"><div class=\"wandb-col\"><h3>Run history:</h3><br/><table class=\"wandb\"><tr><td>epoch</td><td>▁▂▃▃▄▅▆▆▇█</td></tr><tr><td>testAcc</td><td>▁</td></tr><tr><td>trainAcc</td><td>▁▂▄▄▆▅▇███</td></tr><tr><td>trainLoss</td><td>█▇▅▄▃▂▂▁▁▁</td></tr><tr><td>vAcc</td><td>▁▂▄▅▆▆▇▇██</td></tr><tr><td>vLoss</td><td>█▆▄▅▃▄▃▂▁▁</td></tr></table><br/></div><div class=\"wandb-col\"><h3>Run summary:</h3><br/><table class=\"wandb\"><tr><td>epoch</td><td>9</td></tr><tr><td>testAcc</td><td>85.88672</td></tr><tr><td>trainAcc</td><td>89.12784</td></tr><tr><td>trainLoss</td><td>0.61095</td></tr><tr><td>vAcc</td><td>85.7342</td></tr><tr><td>vLoss</td><td>0.72272</td></tr></table><br/></div></div>"
            ],
            "text/plain": [
              "<IPython.core.display.HTML object>"
            ]
          },
          "metadata": {},
          "output_type": "display_data"
        },
        {
          "data": {
            "text/html": [
              " View run <strong style=\"color:#cdcd00\">run3_new</strong> at: <a href='https://wandb.ai/nfl-deep/NFL2/runs/f16hvmus' target=\"_blank\">https://wandb.ai/nfl-deep/NFL2/runs/f16hvmus</a><br/>Synced 5 W&B file(s), 0 media file(s), 0 artifact file(s) and 0 other file(s)"
            ],
            "text/plain": [
              "<IPython.core.display.HTML object>"
            ]
          },
          "metadata": {},
          "output_type": "display_data"
        },
        {
          "data": {
            "text/html": [
              "Find logs at: <code>./wandb/run-20231211_140418-f16hvmus/logs</code>"
            ],
            "text/plain": [
              "<IPython.core.display.HTML object>"
            ]
          },
          "metadata": {},
          "output_type": "display_data"
        },
        {
          "data": {
            "text/html": [
              "Tracking run with wandb version 0.16.1"
            ],
            "text/plain": [
              "<IPython.core.display.HTML object>"
            ]
          },
          "metadata": {},
          "output_type": "display_data"
        },
        {
          "data": {
            "text/html": [
              "Run data is saved locally in <code>/content/drive/MyDrive/AU/Deep learning/wandb/run-20231211_141231-frxkskdm</code>"
            ],
            "text/plain": [
              "<IPython.core.display.HTML object>"
            ]
          },
          "metadata": {},
          "output_type": "display_data"
        },
        {
          "data": {
            "text/html": [
              "Syncing run <strong><a href='https://wandb.ai/nfl-deep/NFL2/runs/frxkskdm' target=\"_blank\">run4_new</a></strong> to <a href='https://wandb.ai/nfl-deep/NFL2' target=\"_blank\">Weights & Biases</a> (<a href='https://wandb.me/run' target=\"_blank\">docs</a>)<br/>"
            ],
            "text/plain": [
              "<IPython.core.display.HTML object>"
            ]
          },
          "metadata": {},
          "output_type": "display_data"
        },
        {
          "data": {
            "text/html": [
              " View project at <a href='https://wandb.ai/nfl-deep/NFL2' target=\"_blank\">https://wandb.ai/nfl-deep/NFL2</a>"
            ],
            "text/plain": [
              "<IPython.core.display.HTML object>"
            ]
          },
          "metadata": {},
          "output_type": "display_data"
        },
        {
          "data": {
            "text/html": [
              " View run at <a href='https://wandb.ai/nfl-deep/NFL2/runs/frxkskdm' target=\"_blank\">https://wandb.ai/nfl-deep/NFL2/runs/frxkskdm</a>"
            ],
            "text/plain": [
              "<IPython.core.display.HTML object>"
            ]
          },
          "metadata": {},
          "output_type": "display_data"
        },
        {
          "name": "stdout",
          "output_type": "stream",
          "text": [
            "Run name: run4_new,Epoch 1/10, Training Loss: 0.9892, Training Accuracy: 81.2160%, Validation Loss: 0.9170, Validation Accuracy: 82.4349%, Epoch time: 59.50867819786072s\n",
            "Run name: run4_new,Epoch 2/10, Training Loss: 0.9122, Training Accuracy: 81.2160%, Validation Loss: 0.8112, Validation Accuracy: 82.4349%, Epoch time: 59.449798345565796s\n",
            "Run name: run4_new,Epoch 3/10, Training Loss: 0.7929, Training Accuracy: 87.2693%, Validation Loss: 0.7026, Validation Accuracy: 86.1524%, Epoch time: 59.70113563537598s\n",
            "Run name: run4_new,Epoch 4/10, Training Loss: 3.8902, Training Accuracy: 81.2160%, Validation Loss: 35.1301, Validation Accuracy: 82.4349%, Epoch time: 61.548301696777344s\n",
            "Run name: run4_new,Epoch 5/10, Training Loss: 20.7378, Training Accuracy: 86.4065%, Validation Loss: 0.7638, Validation Accuracy: 85.8271%, Epoch time: 60.63689303398132s\n",
            "Run name: run4_new,Epoch 6/10, Training Loss: 0.6658, Training Accuracy: 89.1411%, Validation Loss: 0.6950, Validation Accuracy: 87.5000%, Epoch time: 60.014488220214844s\n",
            "Run name: run4_new,Epoch 7/10, Training Loss: 0.6375, Training Accuracy: 90.1235%, Validation Loss: 0.6603, Validation Accuracy: 87.8717%, Epoch time: 60.670454025268555s\n",
            "Run name: run4_new,Epoch 8/10, Training Loss: 0.6362, Training Accuracy: 89.7252%, Validation Loss: 0.6737, Validation Accuracy: 87.4535%, Epoch time: 61.315932512283325s\n",
            "Run name: run4_new,Epoch 9/10, Training Loss: 0.6183, Training Accuracy: 88.8358%, Validation Loss: 0.6806, Validation Accuracy: 86.7100%, Epoch time: 60.899498462677s\n",
            "Run name: run4_new,Epoch 10/10, Training Loss: 0.6046, Training Accuracy: 90.8669%, Validation Loss: 0.6349, Validation Accuracy: 88.4758%, Epoch time: 60.464648723602295s\n"
          ]
        },
        {
          "data": {
            "application/vnd.jupyter.widget-view+json": {
              "model_id": "83d936b90c1c48d082fc8c93907917a6",
              "version_major": 2,
              "version_minor": 0
            },
            "text/plain": [
              "VBox(children=(Label(value='0.002 MB of 0.013 MB uploaded\\r'), FloatProgress(value=0.13778041015769601, max=1.…"
            ]
          },
          "metadata": {},
          "output_type": "display_data"
        },
        {
          "data": {
            "text/html": [
              "<style>\n",
              "    table.wandb td:nth-child(1) { padding: 0 10px; text-align: left ; width: auto;} td:nth-child(2) {text-align: left ; width: 100%}\n",
              "    .wandb-row { display: flex; flex-direction: row; flex-wrap: wrap; justify-content: flex-start; width: 100% }\n",
              "    .wandb-col { display: flex; flex-direction: column; flex-basis: 100%; flex: 1; padding: 10px; }\n",
              "    </style>\n",
              "<div class=\"wandb-row\"><div class=\"wandb-col\"><h3>Run history:</h3><br/><table class=\"wandb\"><tr><td>epoch</td><td>▁▂▃▃▄▅▆▆▇█</td></tr><tr><td>testAcc</td><td>▁</td></tr><tr><td>trainAcc</td><td>▁▁▅▁▅▇▇▇▇█</td></tr><tr><td>trainLoss</td><td>▁▁▁▂█▁▁▁▁▁</td></tr><tr><td>vAcc</td><td>▁▁▅▁▅▇▇▇▆█</td></tr><tr><td>vLoss</td><td>▁▁▁█▁▁▁▁▁▁</td></tr></table><br/></div><div class=\"wandb-col\"><h3>Run summary:</h3><br/><table class=\"wandb\"><tr><td>epoch</td><td>9</td></tr><tr><td>testAcc</td><td>89.22934</td></tr><tr><td>trainAcc</td><td>90.86685</td></tr><tr><td>trainLoss</td><td>0.60455</td></tr><tr><td>vAcc</td><td>88.47584</td></tr><tr><td>vLoss</td><td>0.63489</td></tr></table><br/></div></div>"
            ],
            "text/plain": [
              "<IPython.core.display.HTML object>"
            ]
          },
          "metadata": {},
          "output_type": "display_data"
        },
        {
          "data": {
            "text/html": [
              " View run <strong style=\"color:#cdcd00\">run4_new</strong> at: <a href='https://wandb.ai/nfl-deep/NFL2/runs/frxkskdm' target=\"_blank\">https://wandb.ai/nfl-deep/NFL2/runs/frxkskdm</a><br/>Synced 5 W&B file(s), 0 media file(s), 0 artifact file(s) and 0 other file(s)"
            ],
            "text/plain": [
              "<IPython.core.display.HTML object>"
            ]
          },
          "metadata": {},
          "output_type": "display_data"
        },
        {
          "data": {
            "text/html": [
              "Find logs at: <code>./wandb/run-20231211_141231-frxkskdm/logs</code>"
            ],
            "text/plain": [
              "<IPython.core.display.HTML object>"
            ]
          },
          "metadata": {},
          "output_type": "display_data"
        }
      ],
      "source": [
        "\n",
        "\n",
        "import ray\n",
        "from ray import tune\n",
        "import time\n",
        "import wandb\n",
        "import os\n",
        "import torch\n",
        "\n",
        "import torch.nn.functional as F\n",
        "os.environ[\"WANDB_API_KEY\"] = \"KEY\"\n",
        "wandb.login()\n",
        "training_setups = [\n",
        "    [0.00028325, 0.0375715, 1.01857e-06, 'sgd', 20, 'run1'],\n",
        "    [0.00314019, 0.2020876, 9.64192e-05, 'adam', 10,'run2'],\n",
        "    [0.000825128, 0.403226, 2.22612e-06, 'sgd', 20,'run3'],\n",
        "    [0.00075884, 0.0834711, 1.77119e-05, 'adam', 10,'run4'],\n",
        "    [0.000119576, 0.336194, 0.000175564, 'sgd', 10,'run5'],\n",
        "    [0.00118866, 0.4767, 0.000567221, 'adam', 20,'run6'],\n",
        "    [0.296388, 0.357747, 2.3064e-05, 'sgd', 10,'run7'],\n",
        "    [0.0980849, 0.456781, 0.000452278, 'sgd', 10,'run8'],\n",
        "    [0.800791832, 0.396527, 0.000238396, 'adam', 20,'run9'],\n",
        "    [0.820299, 0.30633, 1.63383e-06, 'sgd', 20,'run10'],\n",
        "    [0.8742011, 0.969196, 0.000151901, 'adam', 20,'run11'],\n",
        "    [0.0165513, 0.216144, 2.59366e-05, 'adam', 10,'run12']\n",
        "]\n",
        "training_setup3 = [[0.000825128, 0.403226, 2.22612e-06, 'sgd', 10,'run3_new'],\n",
        "                    [0.00075884, 0.0834711, 1.77119e-05, 'adam', 10,'run4_new'],]\n",
        "for setup in training_setup3:\n",
        "    nfl_dataset = NFLDataset(csv_file='Data/extended_tackles_with_tracking_full.csv', grid_size=(150, 150))\n",
        "\n",
        "    # Define the proportions\n",
        "    total_size = len(nfl_dataset)  # Use the nfl_dataset instance you already created\n",
        "    train_size = int(total_size * 0.7)  # 70% of data\n",
        "    val_size = int(total_size * 0.2)  # 20% of data\n",
        "    test_size = total_size - train_size - val_size  # Remaining 10% for testing\n",
        "\n",
        "    # Split the dataset\n",
        "    train_dataset, val_dataset, test_dataset = random_split(nfl_dataset, [train_size, val_size, test_size])\n",
        "\n",
        "    # Create DataLoaders for each set\n",
        "    train_loader = DataLoader(train_dataset, batch_size=1, shuffle=True)\n",
        "    val_loader = DataLoader(val_dataset, batch_size=1, shuffle=False)\n",
        "    test_loader = DataLoader(test_dataset, batch_size=1, shuffle=False)\n",
        "    lr = setup[0]  # Access the learning rate (lr)\n",
        "    dropout = setup[1]  # Access the dropout rate (dropout)\n",
        "    weight_decay = setup[2]  # Access the weight decay (weight_decay)\n",
        "    opt = setup[3]  # Access the optimizer (optimizer)\n",
        "    epochs = setup[4]  # Access the number of epochs (num_epochs)\n",
        "    exp_name = setup[5]\n",
        "\n",
        "    wandb.init(project=\"NFL2\", name=exp_name,\n",
        "               config={\n",
        "                   \"lr\": lr,\n",
        "                   \"dropout\": dropout,\n",
        "                   \"weight_decay\": weight_decay,\n",
        "                   \"optimizer\": opt,\n",
        "                   \"epochs\": epochs\n",
        "\n",
        "               })\n",
        "    device = torch.device(\"cuda:0\")\n",
        "    #if torch.cuda.is_available():\n",
        "    #  print('cuda is available')\n",
        "    #  device = torch.device(\"cuda:0\")\n",
        "    #  #numGPUs=torch.cuda.device_count()\n",
        "    #else:\n",
        "    #  print('cuda is not available')\n",
        "    #  device = torch.device(\"cpu\")\n",
        "    #  numGPUs=0\n",
        "    num_epochs = epochs\n",
        "    model = SimpleCNN()\n",
        "    model = model.to(device)\n",
        "    loss_function = nn.BCELoss()\n",
        "    if opt == \"adam\":\n",
        "      optimizer = optim.Adam(model.parameters(), lr=lr, weight_decay=weight_decay)\n",
        "    elif opt == \"sgd\":\n",
        "      optimizer = optim.SGD(model.parameters(), lr=lr, weight_decay=weight_decay)\n",
        "    for epoch in range(num_epochs):\n",
        "      model.train()\n",
        "      total_loss_train = 0.0  # Initialize total loss for training\n",
        "      start_time = time.time()\n",
        "      for batch in train_loader:\n",
        "          inputs, labels = batch\n",
        "          inputs = inputs.to(device)\n",
        "          labels = labels.to(device)\n",
        "          optimizer.zero_grad()\n",
        "          outputs = model(inputs).squeeze(1)\n",
        "          loss = loss_function(outputs, labels.float())\n",
        "          loss.backward()\n",
        "          optimizer.step()\n",
        "          total_loss_train += loss.item() * len(batch)  # Accumulate the loss\n",
        "      average_loss_train = total_loss_train / len(train_loader.dataset)  # Calculate average loss\n",
        "      # Calculate training accuracy\n",
        "      train_accuracy = calculate_accuracy(train_loader, model)\n",
        "      # Switch model to evaluation mode for validation loss and accuracy\n",
        "      model.eval()\n",
        "      total_loss_val = 0.0  # Initialize total loss for validation\n",
        "      for batch in val_loader:\n",
        "          inputs, labels = batch\n",
        "          inputs = inputs.to(device)\n",
        "          labels = labels.to(device)\n",
        "          outputs = model(inputs).squeeze(1)\n",
        "          loss = loss_function(outputs, labels.float())\n",
        "          total_loss_val += loss.item() * len(batch)  # Accumulate the loss\n",
        "      end_time = time.time()\n",
        "      average_loss_val = total_loss_val / len(val_loader.dataset)  # Calculate average loss\n",
        "      # Calculate validation accuracy\n",
        "      val_accuracy = calculate_accuracy(val_loader, model)\n",
        "      epoch_time = end_time - start_time\n",
        "      val_f1 = calculate_f1_score(val_loader, model, device)\n",
        "\n",
        "      print(f'Run name: {exp_name},Epoch {epoch+1}/{num_epochs}, Training Loss: {average_loss_train:.4f}, Training Accuracy: {train_accuracy:.4f}%, Validation Loss: {average_loss_val:.4f}, Validation Accuracy: {val_accuracy:.4f}%, Epoch time: {epoch_time}s')\n",
        "      wandb.log({\"trainLoss\": average_loss_train,\n",
        "                 \"trainAcc\": train_accuracy,\n",
        "                 \"epoch\": epoch,\n",
        "                 \"vLoss\": average_loss_val,\n",
        "                 \"vAcc\": val_accuracy,\n",
        "                 \"valF1\":val_f1})\n",
        "    # Import necessary libraries\n",
        "    model.eval()\n",
        "    with torch.no_grad():\n",
        "      test_accuracy = calculate_test_accuracy(test_loader, model, device)\n",
        "      test_f1 = calculate_f1_score(test_loader, model, device)\n",
        "      wandb.log({\"testAcc\": test_accuracy, \"testF1\": test_f1})\n",
        "\n",
        "\n",
        "    wandb.finish()\n",
        "\n"
      ]
    },
    {
      "cell_type": "code",
      "execution_count": null,
      "metadata": {
        "id": "pJpC7QGHZ-YH"
      },
      "outputs": [],
      "source": []
    },
    {
      "cell_type": "code",
      "execution_count": null,
      "metadata": {
        "colab": {
          "base_uri": "https://localhost:8080/",
          "height": 69,
          "referenced_widgets": [
            "e999cd3fd2ba4552a08cd8722f4970c1",
            "bc3aa9cdaeb3447b95021b55b82d1688",
            "f478560325fe40ba88fa93e027435227",
            "5fa229b4ead24016b7446f5ddf2fe435",
            "034df4039978495fa31bb12dcd24a953",
            "b456371232e1483985e263e3f6dbe2d9",
            "bbc736ff31fd476cb1aa5576197947c1",
            "32833375e0354930bf296e60905dce37"
          ]
        },
        "id": "cWcCh6vTV7t1",
        "outputId": "553ff8ec-03bd-4dc6-c83b-788da690b862"
      },
      "outputs": [
        {
          "data": {
            "application/vnd.jupyter.widget-view+json": {
              "model_id": "e999cd3fd2ba4552a08cd8722f4970c1",
              "version_major": 2,
              "version_minor": 0
            },
            "text/plain": [
              "VBox(children=(Label(value='0.011 MB of 0.011 MB uploaded\\r'), FloatProgress(value=1.0, max=1.0)))"
            ]
          },
          "metadata": {},
          "output_type": "display_data"
        },
        {
          "data": {
            "text/html": [
              " View run <strong style=\"color:#cdcd00\">run3_new</strong> at: <a href='https://wandb.ai/nfl-deep/NFL2/runs/fcpgmjhr' target=\"_blank\">https://wandb.ai/nfl-deep/NFL2/runs/fcpgmjhr</a><br/>Synced 4 W&B file(s), 0 media file(s), 0 artifact file(s) and 0 other file(s)"
            ],
            "text/plain": [
              "<IPython.core.display.HTML object>"
            ]
          },
          "metadata": {},
          "output_type": "display_data"
        },
        {
          "data": {
            "text/html": [
              "Find logs at: <code>./wandb/run-20231211_140119-fcpgmjhr/logs</code>"
            ],
            "text/plain": [
              "<IPython.core.display.HTML object>"
            ]
          },
          "metadata": {},
          "output_type": "display_data"
        }
      ],
      "source": [
        "wandb.finish()"
      ]
    }
  ],
  "metadata": {
    "accelerator": "GPU",
    "colab": {
      "gpuType": "V100",
      "machine_shape": "hm",
      "provenance": []
    },
    "kernelspec": {
      "display_name": "Python 3",
      "name": "python3"
    },
    "language_info": {
      "name": "python",
      "version": "3.10.12"
    },
    "widgets": {
      "application/vnd.jupyter.widget-state+json": {
        "034df4039978495fa31bb12dcd24a953": {
          "model_module": "@jupyter-widgets/base",
          "model_module_version": "1.2.0",
          "model_name": "LayoutModel",
          "state": {
            "_model_module": "@jupyter-widgets/base",
            "_model_module_version": "1.2.0",
            "_model_name": "LayoutModel",
            "_view_count": null,
            "_view_module": "@jupyter-widgets/base",
            "_view_module_version": "1.2.0",
            "_view_name": "LayoutView",
            "align_content": null,
            "align_items": null,
            "align_self": null,
            "border": null,
            "bottom": null,
            "display": null,
            "flex": null,
            "flex_flow": null,
            "grid_area": null,
            "grid_auto_columns": null,
            "grid_auto_flow": null,
            "grid_auto_rows": null,
            "grid_column": null,
            "grid_gap": null,
            "grid_row": null,
            "grid_template_areas": null,
            "grid_template_columns": null,
            "grid_template_rows": null,
            "height": null,
            "justify_content": null,
            "justify_items": null,
            "left": null,
            "margin": null,
            "max_height": null,
            "max_width": null,
            "min_height": null,
            "min_width": null,
            "object_fit": null,
            "object_position": null,
            "order": null,
            "overflow": null,
            "overflow_x": null,
            "overflow_y": null,
            "padding": null,
            "right": null,
            "top": null,
            "visibility": null,
            "width": null
          }
        },
        "06e84ad3f7db4b0896b53b32c130127a": {
          "model_module": "@jupyter-widgets/base",
          "model_module_version": "1.2.0",
          "model_name": "LayoutModel",
          "state": {
            "_model_module": "@jupyter-widgets/base",
            "_model_module_version": "1.2.0",
            "_model_name": "LayoutModel",
            "_view_count": null,
            "_view_module": "@jupyter-widgets/base",
            "_view_module_version": "1.2.0",
            "_view_name": "LayoutView",
            "align_content": null,
            "align_items": null,
            "align_self": null,
            "border": null,
            "bottom": null,
            "display": null,
            "flex": null,
            "flex_flow": null,
            "grid_area": null,
            "grid_auto_columns": null,
            "grid_auto_flow": null,
            "grid_auto_rows": null,
            "grid_column": null,
            "grid_gap": null,
            "grid_row": null,
            "grid_template_areas": null,
            "grid_template_columns": null,
            "grid_template_rows": null,
            "height": null,
            "justify_content": null,
            "justify_items": null,
            "left": null,
            "margin": null,
            "max_height": null,
            "max_width": null,
            "min_height": null,
            "min_width": null,
            "object_fit": null,
            "object_position": null,
            "order": null,
            "overflow": null,
            "overflow_x": null,
            "overflow_y": null,
            "padding": null,
            "right": null,
            "top": null,
            "visibility": null,
            "width": null
          }
        },
        "2004607478f1436bb1f76942d6293f4b": {
          "model_module": "@jupyter-widgets/base",
          "model_module_version": "1.2.0",
          "model_name": "LayoutModel",
          "state": {
            "_model_module": "@jupyter-widgets/base",
            "_model_module_version": "1.2.0",
            "_model_name": "LayoutModel",
            "_view_count": null,
            "_view_module": "@jupyter-widgets/base",
            "_view_module_version": "1.2.0",
            "_view_name": "LayoutView",
            "align_content": null,
            "align_items": null,
            "align_self": null,
            "border": null,
            "bottom": null,
            "display": null,
            "flex": null,
            "flex_flow": null,
            "grid_area": null,
            "grid_auto_columns": null,
            "grid_auto_flow": null,
            "grid_auto_rows": null,
            "grid_column": null,
            "grid_gap": null,
            "grid_row": null,
            "grid_template_areas": null,
            "grid_template_columns": null,
            "grid_template_rows": null,
            "height": null,
            "justify_content": null,
            "justify_items": null,
            "left": null,
            "margin": null,
            "max_height": null,
            "max_width": null,
            "min_height": null,
            "min_width": null,
            "object_fit": null,
            "object_position": null,
            "order": null,
            "overflow": null,
            "overflow_x": null,
            "overflow_y": null,
            "padding": null,
            "right": null,
            "top": null,
            "visibility": null,
            "width": null
          }
        },
        "247723e72cf94731892310bd3a2a036d": {
          "model_module": "@jupyter-widgets/controls",
          "model_module_version": "1.5.0",
          "model_name": "DescriptionStyleModel",
          "state": {
            "_model_module": "@jupyter-widgets/controls",
            "_model_module_version": "1.5.0",
            "_model_name": "DescriptionStyleModel",
            "_view_count": null,
            "_view_module": "@jupyter-widgets/base",
            "_view_module_version": "1.2.0",
            "_view_name": "StyleView",
            "description_width": ""
          }
        },
        "3280e154496448a38e1bb9b131a3bbab": {
          "model_module": "@jupyter-widgets/base",
          "model_module_version": "1.2.0",
          "model_name": "LayoutModel",
          "state": {
            "_model_module": "@jupyter-widgets/base",
            "_model_module_version": "1.2.0",
            "_model_name": "LayoutModel",
            "_view_count": null,
            "_view_module": "@jupyter-widgets/base",
            "_view_module_version": "1.2.0",
            "_view_name": "LayoutView",
            "align_content": null,
            "align_items": null,
            "align_self": null,
            "border": null,
            "bottom": null,
            "display": null,
            "flex": null,
            "flex_flow": null,
            "grid_area": null,
            "grid_auto_columns": null,
            "grid_auto_flow": null,
            "grid_auto_rows": null,
            "grid_column": null,
            "grid_gap": null,
            "grid_row": null,
            "grid_template_areas": null,
            "grid_template_columns": null,
            "grid_template_rows": null,
            "height": null,
            "justify_content": null,
            "justify_items": null,
            "left": null,
            "margin": null,
            "max_height": null,
            "max_width": null,
            "min_height": null,
            "min_width": null,
            "object_fit": null,
            "object_position": null,
            "order": null,
            "overflow": null,
            "overflow_x": null,
            "overflow_y": null,
            "padding": null,
            "right": null,
            "top": null,
            "visibility": null,
            "width": null
          }
        },
        "32833375e0354930bf296e60905dce37": {
          "model_module": "@jupyter-widgets/controls",
          "model_module_version": "1.5.0",
          "model_name": "ProgressStyleModel",
          "state": {
            "_model_module": "@jupyter-widgets/controls",
            "_model_module_version": "1.5.0",
            "_model_name": "ProgressStyleModel",
            "_view_count": null,
            "_view_module": "@jupyter-widgets/base",
            "_view_module_version": "1.2.0",
            "_view_name": "StyleView",
            "bar_color": null,
            "description_width": ""
          }
        },
        "4d17dad01eea46fcaea1aa46c5ed38d8": {
          "model_module": "@jupyter-widgets/controls",
          "model_module_version": "1.5.0",
          "model_name": "VBoxModel",
          "state": {
            "_dom_classes": [],
            "_model_module": "@jupyter-widgets/controls",
            "_model_module_version": "1.5.0",
            "_model_name": "VBoxModel",
            "_view_count": null,
            "_view_module": "@jupyter-widgets/controls",
            "_view_module_version": "1.5.0",
            "_view_name": "VBoxView",
            "box_style": "",
            "children": [
              "IPY_MODEL_8d510abc38ac43e599e09beefe037ecf",
              "IPY_MODEL_597a17d98f394af9a5439fc468f213ef"
            ],
            "layout": "IPY_MODEL_ff28e3159ae44ed4a070c9ffb73bcce2"
          }
        },
        "56b69932902849e9b40ee9a13f5722ce": {
          "model_module": "@jupyter-widgets/base",
          "model_module_version": "1.2.0",
          "model_name": "LayoutModel",
          "state": {
            "_model_module": "@jupyter-widgets/base",
            "_model_module_version": "1.2.0",
            "_model_name": "LayoutModel",
            "_view_count": null,
            "_view_module": "@jupyter-widgets/base",
            "_view_module_version": "1.2.0",
            "_view_name": "LayoutView",
            "align_content": null,
            "align_items": null,
            "align_self": null,
            "border": null,
            "bottom": null,
            "display": null,
            "flex": null,
            "flex_flow": null,
            "grid_area": null,
            "grid_auto_columns": null,
            "grid_auto_flow": null,
            "grid_auto_rows": null,
            "grid_column": null,
            "grid_gap": null,
            "grid_row": null,
            "grid_template_areas": null,
            "grid_template_columns": null,
            "grid_template_rows": null,
            "height": null,
            "justify_content": null,
            "justify_items": null,
            "left": null,
            "margin": null,
            "max_height": null,
            "max_width": null,
            "min_height": null,
            "min_width": null,
            "object_fit": null,
            "object_position": null,
            "order": null,
            "overflow": null,
            "overflow_x": null,
            "overflow_y": null,
            "padding": null,
            "right": null,
            "top": null,
            "visibility": null,
            "width": null
          }
        },
        "597a17d98f394af9a5439fc468f213ef": {
          "model_module": "@jupyter-widgets/controls",
          "model_module_version": "1.5.0",
          "model_name": "FloatProgressModel",
          "state": {
            "_dom_classes": [],
            "_model_module": "@jupyter-widgets/controls",
            "_model_module_version": "1.5.0",
            "_model_name": "FloatProgressModel",
            "_view_count": null,
            "_view_module": "@jupyter-widgets/controls",
            "_view_module_version": "1.5.0",
            "_view_name": "ProgressView",
            "bar_style": "",
            "description": "",
            "description_tooltip": null,
            "layout": "IPY_MODEL_3280e154496448a38e1bb9b131a3bbab",
            "max": 1,
            "min": 0,
            "orientation": "horizontal",
            "style": "IPY_MODEL_74ecde50eac0484c9c5ca6e5faa38002",
            "value": 1
          }
        },
        "5fa229b4ead24016b7446f5ddf2fe435": {
          "model_module": "@jupyter-widgets/base",
          "model_module_version": "1.2.0",
          "model_name": "LayoutModel",
          "state": {
            "_model_module": "@jupyter-widgets/base",
            "_model_module_version": "1.2.0",
            "_model_name": "LayoutModel",
            "_view_count": null,
            "_view_module": "@jupyter-widgets/base",
            "_view_module_version": "1.2.0",
            "_view_name": "LayoutView",
            "align_content": null,
            "align_items": null,
            "align_self": null,
            "border": null,
            "bottom": null,
            "display": null,
            "flex": null,
            "flex_flow": null,
            "grid_area": null,
            "grid_auto_columns": null,
            "grid_auto_flow": null,
            "grid_auto_rows": null,
            "grid_column": null,
            "grid_gap": null,
            "grid_row": null,
            "grid_template_areas": null,
            "grid_template_columns": null,
            "grid_template_rows": null,
            "height": null,
            "justify_content": null,
            "justify_items": null,
            "left": null,
            "margin": null,
            "max_height": null,
            "max_width": null,
            "min_height": null,
            "min_width": null,
            "object_fit": null,
            "object_position": null,
            "order": null,
            "overflow": null,
            "overflow_x": null,
            "overflow_y": null,
            "padding": null,
            "right": null,
            "top": null,
            "visibility": null,
            "width": null
          }
        },
        "6d5a7e9b294f4a41a9a42f27021be086": {
          "model_module": "@jupyter-widgets/base",
          "model_module_version": "1.2.0",
          "model_name": "LayoutModel",
          "state": {
            "_model_module": "@jupyter-widgets/base",
            "_model_module_version": "1.2.0",
            "_model_name": "LayoutModel",
            "_view_count": null,
            "_view_module": "@jupyter-widgets/base",
            "_view_module_version": "1.2.0",
            "_view_name": "LayoutView",
            "align_content": null,
            "align_items": null,
            "align_self": null,
            "border": null,
            "bottom": null,
            "display": null,
            "flex": null,
            "flex_flow": null,
            "grid_area": null,
            "grid_auto_columns": null,
            "grid_auto_flow": null,
            "grid_auto_rows": null,
            "grid_column": null,
            "grid_gap": null,
            "grid_row": null,
            "grid_template_areas": null,
            "grid_template_columns": null,
            "grid_template_rows": null,
            "height": null,
            "justify_content": null,
            "justify_items": null,
            "left": null,
            "margin": null,
            "max_height": null,
            "max_width": null,
            "min_height": null,
            "min_width": null,
            "object_fit": null,
            "object_position": null,
            "order": null,
            "overflow": null,
            "overflow_x": null,
            "overflow_y": null,
            "padding": null,
            "right": null,
            "top": null,
            "visibility": null,
            "width": null
          }
        },
        "74ecde50eac0484c9c5ca6e5faa38002": {
          "model_module": "@jupyter-widgets/controls",
          "model_module_version": "1.5.0",
          "model_name": "ProgressStyleModel",
          "state": {
            "_model_module": "@jupyter-widgets/controls",
            "_model_module_version": "1.5.0",
            "_model_name": "ProgressStyleModel",
            "_view_count": null,
            "_view_module": "@jupyter-widgets/base",
            "_view_module_version": "1.2.0",
            "_view_name": "StyleView",
            "bar_color": null,
            "description_width": ""
          }
        },
        "83d936b90c1c48d082fc8c93907917a6": {
          "model_module": "@jupyter-widgets/controls",
          "model_module_version": "1.5.0",
          "model_name": "VBoxModel",
          "state": {
            "_dom_classes": [],
            "_model_module": "@jupyter-widgets/controls",
            "_model_module_version": "1.5.0",
            "_model_name": "VBoxModel",
            "_view_count": null,
            "_view_module": "@jupyter-widgets/controls",
            "_view_module_version": "1.5.0",
            "_view_name": "VBoxView",
            "box_style": "",
            "children": [
              "IPY_MODEL_f48713cce591405fa7372b00b4a0b8ff",
              "IPY_MODEL_965005ae91ce4c15b11baac82ce298fd"
            ],
            "layout": "IPY_MODEL_56b69932902849e9b40ee9a13f5722ce"
          }
        },
        "8d510abc38ac43e599e09beefe037ecf": {
          "model_module": "@jupyter-widgets/controls",
          "model_module_version": "1.5.0",
          "model_name": "LabelModel",
          "state": {
            "_dom_classes": [],
            "_model_module": "@jupyter-widgets/controls",
            "_model_module_version": "1.5.0",
            "_model_name": "LabelModel",
            "_view_count": null,
            "_view_module": "@jupyter-widgets/controls",
            "_view_module_version": "1.5.0",
            "_view_name": "LabelView",
            "description": "",
            "description_tooltip": null,
            "layout": "IPY_MODEL_06e84ad3f7db4b0896b53b32c130127a",
            "placeholder": "​",
            "style": "IPY_MODEL_9a583612cf794352bf7d1fcc06974450",
            "value": "0.013 MB of 0.013 MB uploaded\r"
          }
        },
        "965005ae91ce4c15b11baac82ce298fd": {
          "model_module": "@jupyter-widgets/controls",
          "model_module_version": "1.5.0",
          "model_name": "FloatProgressModel",
          "state": {
            "_dom_classes": [],
            "_model_module": "@jupyter-widgets/controls",
            "_model_module_version": "1.5.0",
            "_model_name": "FloatProgressModel",
            "_view_count": null,
            "_view_module": "@jupyter-widgets/controls",
            "_view_module_version": "1.5.0",
            "_view_name": "ProgressView",
            "bar_style": "",
            "description": "",
            "description_tooltip": null,
            "layout": "IPY_MODEL_6d5a7e9b294f4a41a9a42f27021be086",
            "max": 1,
            "min": 0,
            "orientation": "horizontal",
            "style": "IPY_MODEL_da32c71cde70420086f78a0fdc5e58ba",
            "value": 1
          }
        },
        "9a583612cf794352bf7d1fcc06974450": {
          "model_module": "@jupyter-widgets/controls",
          "model_module_version": "1.5.0",
          "model_name": "DescriptionStyleModel",
          "state": {
            "_model_module": "@jupyter-widgets/controls",
            "_model_module_version": "1.5.0",
            "_model_name": "DescriptionStyleModel",
            "_view_count": null,
            "_view_module": "@jupyter-widgets/base",
            "_view_module_version": "1.2.0",
            "_view_name": "StyleView",
            "description_width": ""
          }
        },
        "b456371232e1483985e263e3f6dbe2d9": {
          "model_module": "@jupyter-widgets/controls",
          "model_module_version": "1.5.0",
          "model_name": "DescriptionStyleModel",
          "state": {
            "_model_module": "@jupyter-widgets/controls",
            "_model_module_version": "1.5.0",
            "_model_name": "DescriptionStyleModel",
            "_view_count": null,
            "_view_module": "@jupyter-widgets/base",
            "_view_module_version": "1.2.0",
            "_view_name": "StyleView",
            "description_width": ""
          }
        },
        "bbc736ff31fd476cb1aa5576197947c1": {
          "model_module": "@jupyter-widgets/base",
          "model_module_version": "1.2.0",
          "model_name": "LayoutModel",
          "state": {
            "_model_module": "@jupyter-widgets/base",
            "_model_module_version": "1.2.0",
            "_model_name": "LayoutModel",
            "_view_count": null,
            "_view_module": "@jupyter-widgets/base",
            "_view_module_version": "1.2.0",
            "_view_name": "LayoutView",
            "align_content": null,
            "align_items": null,
            "align_self": null,
            "border": null,
            "bottom": null,
            "display": null,
            "flex": null,
            "flex_flow": null,
            "grid_area": null,
            "grid_auto_columns": null,
            "grid_auto_flow": null,
            "grid_auto_rows": null,
            "grid_column": null,
            "grid_gap": null,
            "grid_row": null,
            "grid_template_areas": null,
            "grid_template_columns": null,
            "grid_template_rows": null,
            "height": null,
            "justify_content": null,
            "justify_items": null,
            "left": null,
            "margin": null,
            "max_height": null,
            "max_width": null,
            "min_height": null,
            "min_width": null,
            "object_fit": null,
            "object_position": null,
            "order": null,
            "overflow": null,
            "overflow_x": null,
            "overflow_y": null,
            "padding": null,
            "right": null,
            "top": null,
            "visibility": null,
            "width": null
          }
        },
        "bc3aa9cdaeb3447b95021b55b82d1688": {
          "model_module": "@jupyter-widgets/controls",
          "model_module_version": "1.5.0",
          "model_name": "LabelModel",
          "state": {
            "_dom_classes": [],
            "_model_module": "@jupyter-widgets/controls",
            "_model_module_version": "1.5.0",
            "_model_name": "LabelModel",
            "_view_count": null,
            "_view_module": "@jupyter-widgets/controls",
            "_view_module_version": "1.5.0",
            "_view_name": "LabelView",
            "description": "",
            "description_tooltip": null,
            "layout": "IPY_MODEL_034df4039978495fa31bb12dcd24a953",
            "placeholder": "​",
            "style": "IPY_MODEL_b456371232e1483985e263e3f6dbe2d9",
            "value": "0.011 MB of 0.011 MB uploaded\r"
          }
        },
        "da32c71cde70420086f78a0fdc5e58ba": {
          "model_module": "@jupyter-widgets/controls",
          "model_module_version": "1.5.0",
          "model_name": "ProgressStyleModel",
          "state": {
            "_model_module": "@jupyter-widgets/controls",
            "_model_module_version": "1.5.0",
            "_model_name": "ProgressStyleModel",
            "_view_count": null,
            "_view_module": "@jupyter-widgets/base",
            "_view_module_version": "1.2.0",
            "_view_name": "StyleView",
            "bar_color": null,
            "description_width": ""
          }
        },
        "e999cd3fd2ba4552a08cd8722f4970c1": {
          "model_module": "@jupyter-widgets/controls",
          "model_module_version": "1.5.0",
          "model_name": "VBoxModel",
          "state": {
            "_dom_classes": [],
            "_model_module": "@jupyter-widgets/controls",
            "_model_module_version": "1.5.0",
            "_model_name": "VBoxModel",
            "_view_count": null,
            "_view_module": "@jupyter-widgets/controls",
            "_view_module_version": "1.5.0",
            "_view_name": "VBoxView",
            "box_style": "",
            "children": [
              "IPY_MODEL_bc3aa9cdaeb3447b95021b55b82d1688",
              "IPY_MODEL_f478560325fe40ba88fa93e027435227"
            ],
            "layout": "IPY_MODEL_5fa229b4ead24016b7446f5ddf2fe435"
          }
        },
        "f478560325fe40ba88fa93e027435227": {
          "model_module": "@jupyter-widgets/controls",
          "model_module_version": "1.5.0",
          "model_name": "FloatProgressModel",
          "state": {
            "_dom_classes": [],
            "_model_module": "@jupyter-widgets/controls",
            "_model_module_version": "1.5.0",
            "_model_name": "FloatProgressModel",
            "_view_count": null,
            "_view_module": "@jupyter-widgets/controls",
            "_view_module_version": "1.5.0",
            "_view_name": "ProgressView",
            "bar_style": "",
            "description": "",
            "description_tooltip": null,
            "layout": "IPY_MODEL_bbc736ff31fd476cb1aa5576197947c1",
            "max": 1,
            "min": 0,
            "orientation": "horizontal",
            "style": "IPY_MODEL_32833375e0354930bf296e60905dce37",
            "value": 1
          }
        },
        "f48713cce591405fa7372b00b4a0b8ff": {
          "model_module": "@jupyter-widgets/controls",
          "model_module_version": "1.5.0",
          "model_name": "LabelModel",
          "state": {
            "_dom_classes": [],
            "_model_module": "@jupyter-widgets/controls",
            "_model_module_version": "1.5.0",
            "_model_name": "LabelModel",
            "_view_count": null,
            "_view_module": "@jupyter-widgets/controls",
            "_view_module_version": "1.5.0",
            "_view_name": "LabelView",
            "description": "",
            "description_tooltip": null,
            "layout": "IPY_MODEL_2004607478f1436bb1f76942d6293f4b",
            "placeholder": "​",
            "style": "IPY_MODEL_247723e72cf94731892310bd3a2a036d",
            "value": "0.013 MB of 0.013 MB uploaded\r"
          }
        },
        "ff28e3159ae44ed4a070c9ffb73bcce2": {
          "model_module": "@jupyter-widgets/base",
          "model_module_version": "1.2.0",
          "model_name": "LayoutModel",
          "state": {
            "_model_module": "@jupyter-widgets/base",
            "_model_module_version": "1.2.0",
            "_model_name": "LayoutModel",
            "_view_count": null,
            "_view_module": "@jupyter-widgets/base",
            "_view_module_version": "1.2.0",
            "_view_name": "LayoutView",
            "align_content": null,
            "align_items": null,
            "align_self": null,
            "border": null,
            "bottom": null,
            "display": null,
            "flex": null,
            "flex_flow": null,
            "grid_area": null,
            "grid_auto_columns": null,
            "grid_auto_flow": null,
            "grid_auto_rows": null,
            "grid_column": null,
            "grid_gap": null,
            "grid_row": null,
            "grid_template_areas": null,
            "grid_template_columns": null,
            "grid_template_rows": null,
            "height": null,
            "justify_content": null,
            "justify_items": null,
            "left": null,
            "margin": null,
            "max_height": null,
            "max_width": null,
            "min_height": null,
            "min_width": null,
            "object_fit": null,
            "object_position": null,
            "order": null,
            "overflow": null,
            "overflow_x": null,
            "overflow_y": null,
            "padding": null,
            "right": null,
            "top": null,
            "visibility": null,
            "width": null
          }
        }
      }
    }
  },
  "nbformat": 4,
  "nbformat_minor": 0
}
